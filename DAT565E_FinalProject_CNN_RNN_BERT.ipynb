{
  "cells": [
    {
      "cell_type": "markdown",
      "metadata": {
        "id": "XzMXU3ea39bG"
      },
      "source": [
        "DAT565E\n",
        "Final Project"
      ]
    },
    {
      "cell_type": "code",
      "execution_count": 1,
      "metadata": {
        "id": "9zLh3pPH4Olo"
      },
      "outputs": [],
      "source": [
        "import pandas as pd\n",
        "import numpy as np\n",
        "import matplotlib.pyplot as plt\n",
        "import keras\n",
        "import seaborn as sns"
      ]
    },
    {
      "cell_type": "code",
      "execution_count": 2,
      "metadata": {
        "colab": {
          "base_uri": "https://localhost:8080/"
        },
        "id": "TPbGHMRC4APK",
        "outputId": "676517ef-75b9-493d-c8d1-c721ecd1c0e4"
      },
      "outputs": [
        {
          "output_type": "stream",
          "name": "stdout",
          "text": [
            "Mounted at /content/drive\n"
          ]
        }
      ],
      "source": [
        "from google.colab import drive\n",
        "drive.mount('/content/drive', force_remount=True)"
      ]
    },
    {
      "cell_type": "code",
      "execution_count": 3,
      "metadata": {
        "id": "C76_wxqBoyJ8"
      },
      "outputs": [],
      "source": [
        "df_train = pd.read_csv('/content/drive/MyDrive/deep_learning_dataset/Finalproject/train.csv')\n",
        "df_test = pd.read_csv('/content/drive/MyDrive/deep_learning_dataset/Finalproject/test.csv')"
      ]
    },
    {
      "cell_type": "code",
      "execution_count": 4,
      "metadata": {
        "colab": {
          "base_uri": "https://localhost:8080/",
          "height": 206
        },
        "id": "352fYl1i4vfy",
        "outputId": "e87b2eaa-4123-46b3-bffd-150dd93d16f9"
      },
      "outputs": [
        {
          "output_type": "execute_result",
          "data": {
            "text/plain": [
              "                                                text sentiment\n",
              "0  Now, I won't deny that when I purchased this o...       neg\n",
              "1  The saddest thing about this \"tribute\" is that...       neg\n",
              "2  Last night I decided to watch the prequel or s...       neg\n",
              "3  I have to admit that i liked the first half of...       neg\n",
              "4  I was not impressed about this film especially...       neg"
            ],
            "text/html": [
              "\n",
              "  <div id=\"df-e2697e92-d1df-4837-aaa9-e9672d57110d\">\n",
              "    <div class=\"colab-df-container\">\n",
              "      <div>\n",
              "<style scoped>\n",
              "    .dataframe tbody tr th:only-of-type {\n",
              "        vertical-align: middle;\n",
              "    }\n",
              "\n",
              "    .dataframe tbody tr th {\n",
              "        vertical-align: top;\n",
              "    }\n",
              "\n",
              "    .dataframe thead th {\n",
              "        text-align: right;\n",
              "    }\n",
              "</style>\n",
              "<table border=\"1\" class=\"dataframe\">\n",
              "  <thead>\n",
              "    <tr style=\"text-align: right;\">\n",
              "      <th></th>\n",
              "      <th>text</th>\n",
              "      <th>sentiment</th>\n",
              "    </tr>\n",
              "  </thead>\n",
              "  <tbody>\n",
              "    <tr>\n",
              "      <th>0</th>\n",
              "      <td>Now, I won't deny that when I purchased this o...</td>\n",
              "      <td>neg</td>\n",
              "    </tr>\n",
              "    <tr>\n",
              "      <th>1</th>\n",
              "      <td>The saddest thing about this \"tribute\" is that...</td>\n",
              "      <td>neg</td>\n",
              "    </tr>\n",
              "    <tr>\n",
              "      <th>2</th>\n",
              "      <td>Last night I decided to watch the prequel or s...</td>\n",
              "      <td>neg</td>\n",
              "    </tr>\n",
              "    <tr>\n",
              "      <th>3</th>\n",
              "      <td>I have to admit that i liked the first half of...</td>\n",
              "      <td>neg</td>\n",
              "    </tr>\n",
              "    <tr>\n",
              "      <th>4</th>\n",
              "      <td>I was not impressed about this film especially...</td>\n",
              "      <td>neg</td>\n",
              "    </tr>\n",
              "  </tbody>\n",
              "</table>\n",
              "</div>\n",
              "      <button class=\"colab-df-convert\" onclick=\"convertToInteractive('df-e2697e92-d1df-4837-aaa9-e9672d57110d')\"\n",
              "              title=\"Convert this dataframe to an interactive table.\"\n",
              "              style=\"display:none;\">\n",
              "        \n",
              "  <svg xmlns=\"http://www.w3.org/2000/svg\" height=\"24px\"viewBox=\"0 0 24 24\"\n",
              "       width=\"24px\">\n",
              "    <path d=\"M0 0h24v24H0V0z\" fill=\"none\"/>\n",
              "    <path d=\"M18.56 5.44l.94 2.06.94-2.06 2.06-.94-2.06-.94-.94-2.06-.94 2.06-2.06.94zm-11 1L8.5 8.5l.94-2.06 2.06-.94-2.06-.94L8.5 2.5l-.94 2.06-2.06.94zm10 10l.94 2.06.94-2.06 2.06-.94-2.06-.94-.94-2.06-.94 2.06-2.06.94z\"/><path d=\"M17.41 7.96l-1.37-1.37c-.4-.4-.92-.59-1.43-.59-.52 0-1.04.2-1.43.59L10.3 9.45l-7.72 7.72c-.78.78-.78 2.05 0 2.83L4 21.41c.39.39.9.59 1.41.59.51 0 1.02-.2 1.41-.59l7.78-7.78 2.81-2.81c.8-.78.8-2.07 0-2.86zM5.41 20L4 18.59l7.72-7.72 1.47 1.35L5.41 20z\"/>\n",
              "  </svg>\n",
              "      </button>\n",
              "      \n",
              "  <style>\n",
              "    .colab-df-container {\n",
              "      display:flex;\n",
              "      flex-wrap:wrap;\n",
              "      gap: 12px;\n",
              "    }\n",
              "\n",
              "    .colab-df-convert {\n",
              "      background-color: #E8F0FE;\n",
              "      border: none;\n",
              "      border-radius: 50%;\n",
              "      cursor: pointer;\n",
              "      display: none;\n",
              "      fill: #1967D2;\n",
              "      height: 32px;\n",
              "      padding: 0 0 0 0;\n",
              "      width: 32px;\n",
              "    }\n",
              "\n",
              "    .colab-df-convert:hover {\n",
              "      background-color: #E2EBFA;\n",
              "      box-shadow: 0px 1px 2px rgba(60, 64, 67, 0.3), 0px 1px 3px 1px rgba(60, 64, 67, 0.15);\n",
              "      fill: #174EA6;\n",
              "    }\n",
              "\n",
              "    [theme=dark] .colab-df-convert {\n",
              "      background-color: #3B4455;\n",
              "      fill: #D2E3FC;\n",
              "    }\n",
              "\n",
              "    [theme=dark] .colab-df-convert:hover {\n",
              "      background-color: #434B5C;\n",
              "      box-shadow: 0px 1px 3px 1px rgba(0, 0, 0, 0.15);\n",
              "      filter: drop-shadow(0px 1px 2px rgba(0, 0, 0, 0.3));\n",
              "      fill: #FFFFFF;\n",
              "    }\n",
              "  </style>\n",
              "\n",
              "      <script>\n",
              "        const buttonEl =\n",
              "          document.querySelector('#df-e2697e92-d1df-4837-aaa9-e9672d57110d button.colab-df-convert');\n",
              "        buttonEl.style.display =\n",
              "          google.colab.kernel.accessAllowed ? 'block' : 'none';\n",
              "\n",
              "        async function convertToInteractive(key) {\n",
              "          const element = document.querySelector('#df-e2697e92-d1df-4837-aaa9-e9672d57110d');\n",
              "          const dataTable =\n",
              "            await google.colab.kernel.invokeFunction('convertToInteractive',\n",
              "                                                     [key], {});\n",
              "          if (!dataTable) return;\n",
              "\n",
              "          const docLinkHtml = 'Like what you see? Visit the ' +\n",
              "            '<a target=\"_blank\" href=https://colab.research.google.com/notebooks/data_table.ipynb>data table notebook</a>'\n",
              "            + ' to learn more about interactive tables.';\n",
              "          element.innerHTML = '';\n",
              "          dataTable['output_type'] = 'display_data';\n",
              "          await google.colab.output.renderOutput(dataTable, element);\n",
              "          const docLink = document.createElement('div');\n",
              "          docLink.innerHTML = docLinkHtml;\n",
              "          element.appendChild(docLink);\n",
              "        }\n",
              "      </script>\n",
              "    </div>\n",
              "  </div>\n",
              "  "
            ]
          },
          "metadata": {},
          "execution_count": 4
        }
      ],
      "source": [
        "df_train.head()"
      ]
    },
    {
      "cell_type": "code",
      "execution_count": 5,
      "metadata": {
        "colab": {
          "base_uri": "https://localhost:8080/",
          "height": 206
        },
        "id": "GAkdgNjy4ykz",
        "outputId": "759483c6-09b4-4c71-ed30-ef3da396766f"
      },
      "outputs": [
        {
          "output_type": "execute_result",
          "data": {
            "text/plain": [
              "                                                text sentiment\n",
              "0  My daughter liked it but I was aghast, that a ...       neg\n",
              "1  I... No words. No words can describe this. I w...       neg\n",
              "2  this film is basically a poor take on the old ...       neg\n",
              "3  This is a terrible movie, and I'm not even sur...       neg\n",
              "4  First of all this movie is a piece of reality ...       pos"
            ],
            "text/html": [
              "\n",
              "  <div id=\"df-81b7b257-4942-427e-bafa-ff8c81967c6d\">\n",
              "    <div class=\"colab-df-container\">\n",
              "      <div>\n",
              "<style scoped>\n",
              "    .dataframe tbody tr th:only-of-type {\n",
              "        vertical-align: middle;\n",
              "    }\n",
              "\n",
              "    .dataframe tbody tr th {\n",
              "        vertical-align: top;\n",
              "    }\n",
              "\n",
              "    .dataframe thead th {\n",
              "        text-align: right;\n",
              "    }\n",
              "</style>\n",
              "<table border=\"1\" class=\"dataframe\">\n",
              "  <thead>\n",
              "    <tr style=\"text-align: right;\">\n",
              "      <th></th>\n",
              "      <th>text</th>\n",
              "      <th>sentiment</th>\n",
              "    </tr>\n",
              "  </thead>\n",
              "  <tbody>\n",
              "    <tr>\n",
              "      <th>0</th>\n",
              "      <td>My daughter liked it but I was aghast, that a ...</td>\n",
              "      <td>neg</td>\n",
              "    </tr>\n",
              "    <tr>\n",
              "      <th>1</th>\n",
              "      <td>I... No words. No words can describe this. I w...</td>\n",
              "      <td>neg</td>\n",
              "    </tr>\n",
              "    <tr>\n",
              "      <th>2</th>\n",
              "      <td>this film is basically a poor take on the old ...</td>\n",
              "      <td>neg</td>\n",
              "    </tr>\n",
              "    <tr>\n",
              "      <th>3</th>\n",
              "      <td>This is a terrible movie, and I'm not even sur...</td>\n",
              "      <td>neg</td>\n",
              "    </tr>\n",
              "    <tr>\n",
              "      <th>4</th>\n",
              "      <td>First of all this movie is a piece of reality ...</td>\n",
              "      <td>pos</td>\n",
              "    </tr>\n",
              "  </tbody>\n",
              "</table>\n",
              "</div>\n",
              "      <button class=\"colab-df-convert\" onclick=\"convertToInteractive('df-81b7b257-4942-427e-bafa-ff8c81967c6d')\"\n",
              "              title=\"Convert this dataframe to an interactive table.\"\n",
              "              style=\"display:none;\">\n",
              "        \n",
              "  <svg xmlns=\"http://www.w3.org/2000/svg\" height=\"24px\"viewBox=\"0 0 24 24\"\n",
              "       width=\"24px\">\n",
              "    <path d=\"M0 0h24v24H0V0z\" fill=\"none\"/>\n",
              "    <path d=\"M18.56 5.44l.94 2.06.94-2.06 2.06-.94-2.06-.94-.94-2.06-.94 2.06-2.06.94zm-11 1L8.5 8.5l.94-2.06 2.06-.94-2.06-.94L8.5 2.5l-.94 2.06-2.06.94zm10 10l.94 2.06.94-2.06 2.06-.94-2.06-.94-.94-2.06-.94 2.06-2.06.94z\"/><path d=\"M17.41 7.96l-1.37-1.37c-.4-.4-.92-.59-1.43-.59-.52 0-1.04.2-1.43.59L10.3 9.45l-7.72 7.72c-.78.78-.78 2.05 0 2.83L4 21.41c.39.39.9.59 1.41.59.51 0 1.02-.2 1.41-.59l7.78-7.78 2.81-2.81c.8-.78.8-2.07 0-2.86zM5.41 20L4 18.59l7.72-7.72 1.47 1.35L5.41 20z\"/>\n",
              "  </svg>\n",
              "      </button>\n",
              "      \n",
              "  <style>\n",
              "    .colab-df-container {\n",
              "      display:flex;\n",
              "      flex-wrap:wrap;\n",
              "      gap: 12px;\n",
              "    }\n",
              "\n",
              "    .colab-df-convert {\n",
              "      background-color: #E8F0FE;\n",
              "      border: none;\n",
              "      border-radius: 50%;\n",
              "      cursor: pointer;\n",
              "      display: none;\n",
              "      fill: #1967D2;\n",
              "      height: 32px;\n",
              "      padding: 0 0 0 0;\n",
              "      width: 32px;\n",
              "    }\n",
              "\n",
              "    .colab-df-convert:hover {\n",
              "      background-color: #E2EBFA;\n",
              "      box-shadow: 0px 1px 2px rgba(60, 64, 67, 0.3), 0px 1px 3px 1px rgba(60, 64, 67, 0.15);\n",
              "      fill: #174EA6;\n",
              "    }\n",
              "\n",
              "    [theme=dark] .colab-df-convert {\n",
              "      background-color: #3B4455;\n",
              "      fill: #D2E3FC;\n",
              "    }\n",
              "\n",
              "    [theme=dark] .colab-df-convert:hover {\n",
              "      background-color: #434B5C;\n",
              "      box-shadow: 0px 1px 3px 1px rgba(0, 0, 0, 0.15);\n",
              "      filter: drop-shadow(0px 1px 2px rgba(0, 0, 0, 0.3));\n",
              "      fill: #FFFFFF;\n",
              "    }\n",
              "  </style>\n",
              "\n",
              "      <script>\n",
              "        const buttonEl =\n",
              "          document.querySelector('#df-81b7b257-4942-427e-bafa-ff8c81967c6d button.colab-df-convert');\n",
              "        buttonEl.style.display =\n",
              "          google.colab.kernel.accessAllowed ? 'block' : 'none';\n",
              "\n",
              "        async function convertToInteractive(key) {\n",
              "          const element = document.querySelector('#df-81b7b257-4942-427e-bafa-ff8c81967c6d');\n",
              "          const dataTable =\n",
              "            await google.colab.kernel.invokeFunction('convertToInteractive',\n",
              "                                                     [key], {});\n",
              "          if (!dataTable) return;\n",
              "\n",
              "          const docLinkHtml = 'Like what you see? Visit the ' +\n",
              "            '<a target=\"_blank\" href=https://colab.research.google.com/notebooks/data_table.ipynb>data table notebook</a>'\n",
              "            + ' to learn more about interactive tables.';\n",
              "          element.innerHTML = '';\n",
              "          dataTable['output_type'] = 'display_data';\n",
              "          await google.colab.output.renderOutput(dataTable, element);\n",
              "          const docLink = document.createElement('div');\n",
              "          docLink.innerHTML = docLinkHtml;\n",
              "          element.appendChild(docLink);\n",
              "        }\n",
              "      </script>\n",
              "    </div>\n",
              "  </div>\n",
              "  "
            ]
          },
          "metadata": {},
          "execution_count": 5
        }
      ],
      "source": [
        "df_test.head()"
      ]
    },
    {
      "cell_type": "markdown",
      "metadata": {
        "id": "nUnPC2KFR-1Q"
      },
      "source": [
        "## Data preprocessing"
      ]
    },
    {
      "cell_type": "code",
      "execution_count": 6,
      "metadata": {
        "colab": {
          "base_uri": "https://localhost:8080/",
          "height": 206
        },
        "id": "achrFkxJAtPV",
        "outputId": "9cf17300-f75f-4ea0-b775-7f2c479322e2"
      },
      "outputs": [
        {
          "output_type": "execute_result",
          "data": {
            "text/plain": [
              "                                                text sentiment\n",
              "0  Now, I won't deny that when I purchased this o...       neg\n",
              "1  The saddest thing about this \"tribute\" is that...       neg\n",
              "2  Last night I decided to watch the prequel or s...       neg\n",
              "3  I have to admit that i liked the first half of...       neg\n",
              "4  I was not impressed about this film especially...       neg"
            ],
            "text/html": [
              "\n",
              "  <div id=\"df-36b0e9bc-0b58-4924-934c-6d2c173a2d9c\">\n",
              "    <div class=\"colab-df-container\">\n",
              "      <div>\n",
              "<style scoped>\n",
              "    .dataframe tbody tr th:only-of-type {\n",
              "        vertical-align: middle;\n",
              "    }\n",
              "\n",
              "    .dataframe tbody tr th {\n",
              "        vertical-align: top;\n",
              "    }\n",
              "\n",
              "    .dataframe thead th {\n",
              "        text-align: right;\n",
              "    }\n",
              "</style>\n",
              "<table border=\"1\" class=\"dataframe\">\n",
              "  <thead>\n",
              "    <tr style=\"text-align: right;\">\n",
              "      <th></th>\n",
              "      <th>text</th>\n",
              "      <th>sentiment</th>\n",
              "    </tr>\n",
              "  </thead>\n",
              "  <tbody>\n",
              "    <tr>\n",
              "      <th>0</th>\n",
              "      <td>Now, I won't deny that when I purchased this o...</td>\n",
              "      <td>neg</td>\n",
              "    </tr>\n",
              "    <tr>\n",
              "      <th>1</th>\n",
              "      <td>The saddest thing about this \"tribute\" is that...</td>\n",
              "      <td>neg</td>\n",
              "    </tr>\n",
              "    <tr>\n",
              "      <th>2</th>\n",
              "      <td>Last night I decided to watch the prequel or s...</td>\n",
              "      <td>neg</td>\n",
              "    </tr>\n",
              "    <tr>\n",
              "      <th>3</th>\n",
              "      <td>I have to admit that i liked the first half of...</td>\n",
              "      <td>neg</td>\n",
              "    </tr>\n",
              "    <tr>\n",
              "      <th>4</th>\n",
              "      <td>I was not impressed about this film especially...</td>\n",
              "      <td>neg</td>\n",
              "    </tr>\n",
              "  </tbody>\n",
              "</table>\n",
              "</div>\n",
              "      <button class=\"colab-df-convert\" onclick=\"convertToInteractive('df-36b0e9bc-0b58-4924-934c-6d2c173a2d9c')\"\n",
              "              title=\"Convert this dataframe to an interactive table.\"\n",
              "              style=\"display:none;\">\n",
              "        \n",
              "  <svg xmlns=\"http://www.w3.org/2000/svg\" height=\"24px\"viewBox=\"0 0 24 24\"\n",
              "       width=\"24px\">\n",
              "    <path d=\"M0 0h24v24H0V0z\" fill=\"none\"/>\n",
              "    <path d=\"M18.56 5.44l.94 2.06.94-2.06 2.06-.94-2.06-.94-.94-2.06-.94 2.06-2.06.94zm-11 1L8.5 8.5l.94-2.06 2.06-.94-2.06-.94L8.5 2.5l-.94 2.06-2.06.94zm10 10l.94 2.06.94-2.06 2.06-.94-2.06-.94-.94-2.06-.94 2.06-2.06.94z\"/><path d=\"M17.41 7.96l-1.37-1.37c-.4-.4-.92-.59-1.43-.59-.52 0-1.04.2-1.43.59L10.3 9.45l-7.72 7.72c-.78.78-.78 2.05 0 2.83L4 21.41c.39.39.9.59 1.41.59.51 0 1.02-.2 1.41-.59l7.78-7.78 2.81-2.81c.8-.78.8-2.07 0-2.86zM5.41 20L4 18.59l7.72-7.72 1.47 1.35L5.41 20z\"/>\n",
              "  </svg>\n",
              "      </button>\n",
              "      \n",
              "  <style>\n",
              "    .colab-df-container {\n",
              "      display:flex;\n",
              "      flex-wrap:wrap;\n",
              "      gap: 12px;\n",
              "    }\n",
              "\n",
              "    .colab-df-convert {\n",
              "      background-color: #E8F0FE;\n",
              "      border: none;\n",
              "      border-radius: 50%;\n",
              "      cursor: pointer;\n",
              "      display: none;\n",
              "      fill: #1967D2;\n",
              "      height: 32px;\n",
              "      padding: 0 0 0 0;\n",
              "      width: 32px;\n",
              "    }\n",
              "\n",
              "    .colab-df-convert:hover {\n",
              "      background-color: #E2EBFA;\n",
              "      box-shadow: 0px 1px 2px rgba(60, 64, 67, 0.3), 0px 1px 3px 1px rgba(60, 64, 67, 0.15);\n",
              "      fill: #174EA6;\n",
              "    }\n",
              "\n",
              "    [theme=dark] .colab-df-convert {\n",
              "      background-color: #3B4455;\n",
              "      fill: #D2E3FC;\n",
              "    }\n",
              "\n",
              "    [theme=dark] .colab-df-convert:hover {\n",
              "      background-color: #434B5C;\n",
              "      box-shadow: 0px 1px 3px 1px rgba(0, 0, 0, 0.15);\n",
              "      filter: drop-shadow(0px 1px 2px rgba(0, 0, 0, 0.3));\n",
              "      fill: #FFFFFF;\n",
              "    }\n",
              "  </style>\n",
              "\n",
              "      <script>\n",
              "        const buttonEl =\n",
              "          document.querySelector('#df-36b0e9bc-0b58-4924-934c-6d2c173a2d9c button.colab-df-convert');\n",
              "        buttonEl.style.display =\n",
              "          google.colab.kernel.accessAllowed ? 'block' : 'none';\n",
              "\n",
              "        async function convertToInteractive(key) {\n",
              "          const element = document.querySelector('#df-36b0e9bc-0b58-4924-934c-6d2c173a2d9c');\n",
              "          const dataTable =\n",
              "            await google.colab.kernel.invokeFunction('convertToInteractive',\n",
              "                                                     [key], {});\n",
              "          if (!dataTable) return;\n",
              "\n",
              "          const docLinkHtml = 'Like what you see? Visit the ' +\n",
              "            '<a target=\"_blank\" href=https://colab.research.google.com/notebooks/data_table.ipynb>data table notebook</a>'\n",
              "            + ' to learn more about interactive tables.';\n",
              "          element.innerHTML = '';\n",
              "          dataTable['output_type'] = 'display_data';\n",
              "          await google.colab.output.renderOutput(dataTable, element);\n",
              "          const docLink = document.createElement('div');\n",
              "          docLink.innerHTML = docLinkHtml;\n",
              "          element.appendChild(docLink);\n",
              "        }\n",
              "      </script>\n",
              "    </div>\n",
              "  </div>\n",
              "  "
            ]
          },
          "metadata": {},
          "execution_count": 6
        }
      ],
      "source": [
        "df = pd.concat([df_train, df_test], ignore_index=True)\n",
        "df.head()"
      ]
    },
    {
      "cell_type": "code",
      "execution_count": 7,
      "metadata": {
        "id": "NBZUFuoED-8y"
      },
      "outputs": [],
      "source": [
        "df1 = pd.get_dummies(df, columns = ['sentiment'])"
      ]
    },
    {
      "cell_type": "code",
      "execution_count": 8,
      "metadata": {
        "colab": {
          "base_uri": "https://localhost:8080/",
          "height": 206
        },
        "id": "g-KkavtJEEI6",
        "outputId": "647862fb-9d46-4326-d99a-bba548a78067"
      },
      "outputs": [
        {
          "output_type": "execute_result",
          "data": {
            "text/plain": [
              "                                                text  sentiment_neg  \\\n",
              "0  Now, I won't deny that when I purchased this o...              1   \n",
              "1  The saddest thing about this \"tribute\" is that...              1   \n",
              "2  Last night I decided to watch the prequel or s...              1   \n",
              "3  I have to admit that i liked the first half of...              1   \n",
              "4  I was not impressed about this film especially...              1   \n",
              "\n",
              "   sentiment_pos  \n",
              "0              0  \n",
              "1              0  \n",
              "2              0  \n",
              "3              0  \n",
              "4              0  "
            ],
            "text/html": [
              "\n",
              "  <div id=\"df-8ecac529-1ebe-4ee1-b0ce-85807d49b0b8\">\n",
              "    <div class=\"colab-df-container\">\n",
              "      <div>\n",
              "<style scoped>\n",
              "    .dataframe tbody tr th:only-of-type {\n",
              "        vertical-align: middle;\n",
              "    }\n",
              "\n",
              "    .dataframe tbody tr th {\n",
              "        vertical-align: top;\n",
              "    }\n",
              "\n",
              "    .dataframe thead th {\n",
              "        text-align: right;\n",
              "    }\n",
              "</style>\n",
              "<table border=\"1\" class=\"dataframe\">\n",
              "  <thead>\n",
              "    <tr style=\"text-align: right;\">\n",
              "      <th></th>\n",
              "      <th>text</th>\n",
              "      <th>sentiment_neg</th>\n",
              "      <th>sentiment_pos</th>\n",
              "    </tr>\n",
              "  </thead>\n",
              "  <tbody>\n",
              "    <tr>\n",
              "      <th>0</th>\n",
              "      <td>Now, I won't deny that when I purchased this o...</td>\n",
              "      <td>1</td>\n",
              "      <td>0</td>\n",
              "    </tr>\n",
              "    <tr>\n",
              "      <th>1</th>\n",
              "      <td>The saddest thing about this \"tribute\" is that...</td>\n",
              "      <td>1</td>\n",
              "      <td>0</td>\n",
              "    </tr>\n",
              "    <tr>\n",
              "      <th>2</th>\n",
              "      <td>Last night I decided to watch the prequel or s...</td>\n",
              "      <td>1</td>\n",
              "      <td>0</td>\n",
              "    </tr>\n",
              "    <tr>\n",
              "      <th>3</th>\n",
              "      <td>I have to admit that i liked the first half of...</td>\n",
              "      <td>1</td>\n",
              "      <td>0</td>\n",
              "    </tr>\n",
              "    <tr>\n",
              "      <th>4</th>\n",
              "      <td>I was not impressed about this film especially...</td>\n",
              "      <td>1</td>\n",
              "      <td>0</td>\n",
              "    </tr>\n",
              "  </tbody>\n",
              "</table>\n",
              "</div>\n",
              "      <button class=\"colab-df-convert\" onclick=\"convertToInteractive('df-8ecac529-1ebe-4ee1-b0ce-85807d49b0b8')\"\n",
              "              title=\"Convert this dataframe to an interactive table.\"\n",
              "              style=\"display:none;\">\n",
              "        \n",
              "  <svg xmlns=\"http://www.w3.org/2000/svg\" height=\"24px\"viewBox=\"0 0 24 24\"\n",
              "       width=\"24px\">\n",
              "    <path d=\"M0 0h24v24H0V0z\" fill=\"none\"/>\n",
              "    <path d=\"M18.56 5.44l.94 2.06.94-2.06 2.06-.94-2.06-.94-.94-2.06-.94 2.06-2.06.94zm-11 1L8.5 8.5l.94-2.06 2.06-.94-2.06-.94L8.5 2.5l-.94 2.06-2.06.94zm10 10l.94 2.06.94-2.06 2.06-.94-2.06-.94-.94-2.06-.94 2.06-2.06.94z\"/><path d=\"M17.41 7.96l-1.37-1.37c-.4-.4-.92-.59-1.43-.59-.52 0-1.04.2-1.43.59L10.3 9.45l-7.72 7.72c-.78.78-.78 2.05 0 2.83L4 21.41c.39.39.9.59 1.41.59.51 0 1.02-.2 1.41-.59l7.78-7.78 2.81-2.81c.8-.78.8-2.07 0-2.86zM5.41 20L4 18.59l7.72-7.72 1.47 1.35L5.41 20z\"/>\n",
              "  </svg>\n",
              "      </button>\n",
              "      \n",
              "  <style>\n",
              "    .colab-df-container {\n",
              "      display:flex;\n",
              "      flex-wrap:wrap;\n",
              "      gap: 12px;\n",
              "    }\n",
              "\n",
              "    .colab-df-convert {\n",
              "      background-color: #E8F0FE;\n",
              "      border: none;\n",
              "      border-radius: 50%;\n",
              "      cursor: pointer;\n",
              "      display: none;\n",
              "      fill: #1967D2;\n",
              "      height: 32px;\n",
              "      padding: 0 0 0 0;\n",
              "      width: 32px;\n",
              "    }\n",
              "\n",
              "    .colab-df-convert:hover {\n",
              "      background-color: #E2EBFA;\n",
              "      box-shadow: 0px 1px 2px rgba(60, 64, 67, 0.3), 0px 1px 3px 1px rgba(60, 64, 67, 0.15);\n",
              "      fill: #174EA6;\n",
              "    }\n",
              "\n",
              "    [theme=dark] .colab-df-convert {\n",
              "      background-color: #3B4455;\n",
              "      fill: #D2E3FC;\n",
              "    }\n",
              "\n",
              "    [theme=dark] .colab-df-convert:hover {\n",
              "      background-color: #434B5C;\n",
              "      box-shadow: 0px 1px 3px 1px rgba(0, 0, 0, 0.15);\n",
              "      filter: drop-shadow(0px 1px 2px rgba(0, 0, 0, 0.3));\n",
              "      fill: #FFFFFF;\n",
              "    }\n",
              "  </style>\n",
              "\n",
              "      <script>\n",
              "        const buttonEl =\n",
              "          document.querySelector('#df-8ecac529-1ebe-4ee1-b0ce-85807d49b0b8 button.colab-df-convert');\n",
              "        buttonEl.style.display =\n",
              "          google.colab.kernel.accessAllowed ? 'block' : 'none';\n",
              "\n",
              "        async function convertToInteractive(key) {\n",
              "          const element = document.querySelector('#df-8ecac529-1ebe-4ee1-b0ce-85807d49b0b8');\n",
              "          const dataTable =\n",
              "            await google.colab.kernel.invokeFunction('convertToInteractive',\n",
              "                                                     [key], {});\n",
              "          if (!dataTable) return;\n",
              "\n",
              "          const docLinkHtml = 'Like what you see? Visit the ' +\n",
              "            '<a target=\"_blank\" href=https://colab.research.google.com/notebooks/data_table.ipynb>data table notebook</a>'\n",
              "            + ' to learn more about interactive tables.';\n",
              "          element.innerHTML = '';\n",
              "          dataTable['output_type'] = 'display_data';\n",
              "          await google.colab.output.renderOutput(dataTable, element);\n",
              "          const docLink = document.createElement('div');\n",
              "          docLink.innerHTML = docLinkHtml;\n",
              "          element.appendChild(docLink);\n",
              "        }\n",
              "      </script>\n",
              "    </div>\n",
              "  </div>\n",
              "  "
            ]
          },
          "metadata": {},
          "execution_count": 8
        }
      ],
      "source": [
        "df1.head()"
      ]
    },
    {
      "cell_type": "code",
      "execution_count": 9,
      "metadata": {
        "colab": {
          "base_uri": "https://localhost:8080/",
          "height": 206
        },
        "id": "8Y8Lzgg8EasR",
        "outputId": "6e0f4fe0-9fc0-443b-d665-6a1381c61125"
      },
      "outputs": [
        {
          "output_type": "execute_result",
          "data": {
            "text/plain": [
              "                                                text  sentiment_pos\n",
              "0  Now, I won't deny that when I purchased this o...              0\n",
              "1  The saddest thing about this \"tribute\" is that...              0\n",
              "2  Last night I decided to watch the prequel or s...              0\n",
              "3  I have to admit that i liked the first half of...              0\n",
              "4  I was not impressed about this film especially...              0"
            ],
            "text/html": [
              "\n",
              "  <div id=\"df-768a3325-3fd7-4cce-8eec-dd78c024d392\">\n",
              "    <div class=\"colab-df-container\">\n",
              "      <div>\n",
              "<style scoped>\n",
              "    .dataframe tbody tr th:only-of-type {\n",
              "        vertical-align: middle;\n",
              "    }\n",
              "\n",
              "    .dataframe tbody tr th {\n",
              "        vertical-align: top;\n",
              "    }\n",
              "\n",
              "    .dataframe thead th {\n",
              "        text-align: right;\n",
              "    }\n",
              "</style>\n",
              "<table border=\"1\" class=\"dataframe\">\n",
              "  <thead>\n",
              "    <tr style=\"text-align: right;\">\n",
              "      <th></th>\n",
              "      <th>text</th>\n",
              "      <th>sentiment_pos</th>\n",
              "    </tr>\n",
              "  </thead>\n",
              "  <tbody>\n",
              "    <tr>\n",
              "      <th>0</th>\n",
              "      <td>Now, I won't deny that when I purchased this o...</td>\n",
              "      <td>0</td>\n",
              "    </tr>\n",
              "    <tr>\n",
              "      <th>1</th>\n",
              "      <td>The saddest thing about this \"tribute\" is that...</td>\n",
              "      <td>0</td>\n",
              "    </tr>\n",
              "    <tr>\n",
              "      <th>2</th>\n",
              "      <td>Last night I decided to watch the prequel or s...</td>\n",
              "      <td>0</td>\n",
              "    </tr>\n",
              "    <tr>\n",
              "      <th>3</th>\n",
              "      <td>I have to admit that i liked the first half of...</td>\n",
              "      <td>0</td>\n",
              "    </tr>\n",
              "    <tr>\n",
              "      <th>4</th>\n",
              "      <td>I was not impressed about this film especially...</td>\n",
              "      <td>0</td>\n",
              "    </tr>\n",
              "  </tbody>\n",
              "</table>\n",
              "</div>\n",
              "      <button class=\"colab-df-convert\" onclick=\"convertToInteractive('df-768a3325-3fd7-4cce-8eec-dd78c024d392')\"\n",
              "              title=\"Convert this dataframe to an interactive table.\"\n",
              "              style=\"display:none;\">\n",
              "        \n",
              "  <svg xmlns=\"http://www.w3.org/2000/svg\" height=\"24px\"viewBox=\"0 0 24 24\"\n",
              "       width=\"24px\">\n",
              "    <path d=\"M0 0h24v24H0V0z\" fill=\"none\"/>\n",
              "    <path d=\"M18.56 5.44l.94 2.06.94-2.06 2.06-.94-2.06-.94-.94-2.06-.94 2.06-2.06.94zm-11 1L8.5 8.5l.94-2.06 2.06-.94-2.06-.94L8.5 2.5l-.94 2.06-2.06.94zm10 10l.94 2.06.94-2.06 2.06-.94-2.06-.94-.94-2.06-.94 2.06-2.06.94z\"/><path d=\"M17.41 7.96l-1.37-1.37c-.4-.4-.92-.59-1.43-.59-.52 0-1.04.2-1.43.59L10.3 9.45l-7.72 7.72c-.78.78-.78 2.05 0 2.83L4 21.41c.39.39.9.59 1.41.59.51 0 1.02-.2 1.41-.59l7.78-7.78 2.81-2.81c.8-.78.8-2.07 0-2.86zM5.41 20L4 18.59l7.72-7.72 1.47 1.35L5.41 20z\"/>\n",
              "  </svg>\n",
              "      </button>\n",
              "      \n",
              "  <style>\n",
              "    .colab-df-container {\n",
              "      display:flex;\n",
              "      flex-wrap:wrap;\n",
              "      gap: 12px;\n",
              "    }\n",
              "\n",
              "    .colab-df-convert {\n",
              "      background-color: #E8F0FE;\n",
              "      border: none;\n",
              "      border-radius: 50%;\n",
              "      cursor: pointer;\n",
              "      display: none;\n",
              "      fill: #1967D2;\n",
              "      height: 32px;\n",
              "      padding: 0 0 0 0;\n",
              "      width: 32px;\n",
              "    }\n",
              "\n",
              "    .colab-df-convert:hover {\n",
              "      background-color: #E2EBFA;\n",
              "      box-shadow: 0px 1px 2px rgba(60, 64, 67, 0.3), 0px 1px 3px 1px rgba(60, 64, 67, 0.15);\n",
              "      fill: #174EA6;\n",
              "    }\n",
              "\n",
              "    [theme=dark] .colab-df-convert {\n",
              "      background-color: #3B4455;\n",
              "      fill: #D2E3FC;\n",
              "    }\n",
              "\n",
              "    [theme=dark] .colab-df-convert:hover {\n",
              "      background-color: #434B5C;\n",
              "      box-shadow: 0px 1px 3px 1px rgba(0, 0, 0, 0.15);\n",
              "      filter: drop-shadow(0px 1px 2px rgba(0, 0, 0, 0.3));\n",
              "      fill: #FFFFFF;\n",
              "    }\n",
              "  </style>\n",
              "\n",
              "      <script>\n",
              "        const buttonEl =\n",
              "          document.querySelector('#df-768a3325-3fd7-4cce-8eec-dd78c024d392 button.colab-df-convert');\n",
              "        buttonEl.style.display =\n",
              "          google.colab.kernel.accessAllowed ? 'block' : 'none';\n",
              "\n",
              "        async function convertToInteractive(key) {\n",
              "          const element = document.querySelector('#df-768a3325-3fd7-4cce-8eec-dd78c024d392');\n",
              "          const dataTable =\n",
              "            await google.colab.kernel.invokeFunction('convertToInteractive',\n",
              "                                                     [key], {});\n",
              "          if (!dataTable) return;\n",
              "\n",
              "          const docLinkHtml = 'Like what you see? Visit the ' +\n",
              "            '<a target=\"_blank\" href=https://colab.research.google.com/notebooks/data_table.ipynb>data table notebook</a>'\n",
              "            + ' to learn more about interactive tables.';\n",
              "          element.innerHTML = '';\n",
              "          dataTable['output_type'] = 'display_data';\n",
              "          await google.colab.output.renderOutput(dataTable, element);\n",
              "          const docLink = document.createElement('div');\n",
              "          docLink.innerHTML = docLinkHtml;\n",
              "          element.appendChild(docLink);\n",
              "        }\n",
              "      </script>\n",
              "    </div>\n",
              "  </div>\n",
              "  "
            ]
          },
          "metadata": {},
          "execution_count": 9
        }
      ],
      "source": [
        "df2 = df1.drop('sentiment_neg', axis=1)\n",
        "df2.head()"
      ]
    },
    {
      "cell_type": "code",
      "execution_count": 10,
      "metadata": {
        "colab": {
          "base_uri": "https://localhost:8080/"
        },
        "id": "7UjaQGRlpPEC",
        "outputId": "d70ca768-2d4f-4b1e-9335-82766bd3b11f"
      },
      "outputs": [
        {
          "output_type": "execute_result",
          "data": {
            "text/plain": [
              "0    25000\n",
              "1    25000\n",
              "Name: sentiment_pos, dtype: int64"
            ]
          },
          "metadata": {},
          "execution_count": 10
        }
      ],
      "source": [
        "df2.sentiment_pos.value_counts()"
      ]
    },
    {
      "cell_type": "code",
      "execution_count": 11,
      "metadata": {
        "id": "5tgZYmxr-E0S"
      },
      "outputs": [],
      "source": [
        "# neg=df2[df2['sentiment_pos']==0].sample(n=20000)\n",
        "# df2 = pd.concat([neg, df2], ignore_index=True)\n",
        "# df2.head()"
      ]
    },
    {
      "cell_type": "code",
      "execution_count": 12,
      "metadata": {
        "colab": {
          "base_uri": "https://localhost:8080/"
        },
        "id": "jQALfUcd_SAI",
        "outputId": "9a7cccb9-9394-4003-d347-048472bf424f"
      },
      "outputs": [
        {
          "output_type": "execute_result",
          "data": {
            "text/plain": [
              "0    25000\n",
              "1    25000\n",
              "Name: sentiment_pos, dtype: int64"
            ]
          },
          "metadata": {},
          "execution_count": 12
        }
      ],
      "source": [
        "df2.sentiment_pos.value_counts()"
      ]
    },
    {
      "cell_type": "code",
      "execution_count": 13,
      "metadata": {
        "id": "93frzdIk7FfC"
      },
      "outputs": [],
      "source": [
        "df2.sentiment_pos=df2.sentiment_pos.astype('float64')"
      ]
    },
    {
      "cell_type": "code",
      "execution_count": 14,
      "metadata": {
        "id": "MyxC7Waw6f0F"
      },
      "outputs": [],
      "source": [
        "from sklearn.model_selection import train_test_split\n",
        "rev=df2[\"text\"]\n",
        "target=df2[\"sentiment_pos\"]\n",
        "x_train, x_test, y_train, y_test = train_test_split(rev,target,test_size=0.1,random_state=0,stratify=target) #split the dataset to train, validation and test. Like we did before."
      ]
    },
    {
      "cell_type": "code",
      "execution_count": 15,
      "metadata": {
        "colab": {
          "base_uri": "https://localhost:8080/",
          "height": 424
        },
        "id": "ByH-R8iI6f2b",
        "outputId": "ba3298e6-8214-4455-d684-7bddef2e3ac2"
      },
      "outputs": [
        {
          "output_type": "execute_result",
          "data": {
            "text/plain": [
              "                                                    text  sentiment_pos\n",
              "0      Now, I won't deny that when I purchased this o...            0.0\n",
              "1      The saddest thing about this \"tribute\" is that...            0.0\n",
              "2      Last night I decided to watch the prequel or s...            0.0\n",
              "3      I have to admit that i liked the first half of...            0.0\n",
              "4      I was not impressed about this film especially...            0.0\n",
              "...                                                  ...            ...\n",
              "49995  For one thing, he produced this movie. It has ...            0.0\n",
              "49996  The title comes from an alteration an adolesce...            1.0\n",
              "49997  Christopher Nolan's first film is a 'no budget...            1.0\n",
              "49998  The story is shortly about the faith-lacking b...            0.0\n",
              "49999  I found parts of this movie rather slow, espec...            1.0\n",
              "\n",
              "[50000 rows x 2 columns]"
            ],
            "text/html": [
              "\n",
              "  <div id=\"df-a4e7cb00-91a4-42f6-90af-1960b37c8979\">\n",
              "    <div class=\"colab-df-container\">\n",
              "      <div>\n",
              "<style scoped>\n",
              "    .dataframe tbody tr th:only-of-type {\n",
              "        vertical-align: middle;\n",
              "    }\n",
              "\n",
              "    .dataframe tbody tr th {\n",
              "        vertical-align: top;\n",
              "    }\n",
              "\n",
              "    .dataframe thead th {\n",
              "        text-align: right;\n",
              "    }\n",
              "</style>\n",
              "<table border=\"1\" class=\"dataframe\">\n",
              "  <thead>\n",
              "    <tr style=\"text-align: right;\">\n",
              "      <th></th>\n",
              "      <th>text</th>\n",
              "      <th>sentiment_pos</th>\n",
              "    </tr>\n",
              "  </thead>\n",
              "  <tbody>\n",
              "    <tr>\n",
              "      <th>0</th>\n",
              "      <td>Now, I won't deny that when I purchased this o...</td>\n",
              "      <td>0.0</td>\n",
              "    </tr>\n",
              "    <tr>\n",
              "      <th>1</th>\n",
              "      <td>The saddest thing about this \"tribute\" is that...</td>\n",
              "      <td>0.0</td>\n",
              "    </tr>\n",
              "    <tr>\n",
              "      <th>2</th>\n",
              "      <td>Last night I decided to watch the prequel or s...</td>\n",
              "      <td>0.0</td>\n",
              "    </tr>\n",
              "    <tr>\n",
              "      <th>3</th>\n",
              "      <td>I have to admit that i liked the first half of...</td>\n",
              "      <td>0.0</td>\n",
              "    </tr>\n",
              "    <tr>\n",
              "      <th>4</th>\n",
              "      <td>I was not impressed about this film especially...</td>\n",
              "      <td>0.0</td>\n",
              "    </tr>\n",
              "    <tr>\n",
              "      <th>...</th>\n",
              "      <td>...</td>\n",
              "      <td>...</td>\n",
              "    </tr>\n",
              "    <tr>\n",
              "      <th>49995</th>\n",
              "      <td>For one thing, he produced this movie. It has ...</td>\n",
              "      <td>0.0</td>\n",
              "    </tr>\n",
              "    <tr>\n",
              "      <th>49996</th>\n",
              "      <td>The title comes from an alteration an adolesce...</td>\n",
              "      <td>1.0</td>\n",
              "    </tr>\n",
              "    <tr>\n",
              "      <th>49997</th>\n",
              "      <td>Christopher Nolan's first film is a 'no budget...</td>\n",
              "      <td>1.0</td>\n",
              "    </tr>\n",
              "    <tr>\n",
              "      <th>49998</th>\n",
              "      <td>The story is shortly about the faith-lacking b...</td>\n",
              "      <td>0.0</td>\n",
              "    </tr>\n",
              "    <tr>\n",
              "      <th>49999</th>\n",
              "      <td>I found parts of this movie rather slow, espec...</td>\n",
              "      <td>1.0</td>\n",
              "    </tr>\n",
              "  </tbody>\n",
              "</table>\n",
              "<p>50000 rows × 2 columns</p>\n",
              "</div>\n",
              "      <button class=\"colab-df-convert\" onclick=\"convertToInteractive('df-a4e7cb00-91a4-42f6-90af-1960b37c8979')\"\n",
              "              title=\"Convert this dataframe to an interactive table.\"\n",
              "              style=\"display:none;\">\n",
              "        \n",
              "  <svg xmlns=\"http://www.w3.org/2000/svg\" height=\"24px\"viewBox=\"0 0 24 24\"\n",
              "       width=\"24px\">\n",
              "    <path d=\"M0 0h24v24H0V0z\" fill=\"none\"/>\n",
              "    <path d=\"M18.56 5.44l.94 2.06.94-2.06 2.06-.94-2.06-.94-.94-2.06-.94 2.06-2.06.94zm-11 1L8.5 8.5l.94-2.06 2.06-.94-2.06-.94L8.5 2.5l-.94 2.06-2.06.94zm10 10l.94 2.06.94-2.06 2.06-.94-2.06-.94-.94-2.06-.94 2.06-2.06.94z\"/><path d=\"M17.41 7.96l-1.37-1.37c-.4-.4-.92-.59-1.43-.59-.52 0-1.04.2-1.43.59L10.3 9.45l-7.72 7.72c-.78.78-.78 2.05 0 2.83L4 21.41c.39.39.9.59 1.41.59.51 0 1.02-.2 1.41-.59l7.78-7.78 2.81-2.81c.8-.78.8-2.07 0-2.86zM5.41 20L4 18.59l7.72-7.72 1.47 1.35L5.41 20z\"/>\n",
              "  </svg>\n",
              "      </button>\n",
              "      \n",
              "  <style>\n",
              "    .colab-df-container {\n",
              "      display:flex;\n",
              "      flex-wrap:wrap;\n",
              "      gap: 12px;\n",
              "    }\n",
              "\n",
              "    .colab-df-convert {\n",
              "      background-color: #E8F0FE;\n",
              "      border: none;\n",
              "      border-radius: 50%;\n",
              "      cursor: pointer;\n",
              "      display: none;\n",
              "      fill: #1967D2;\n",
              "      height: 32px;\n",
              "      padding: 0 0 0 0;\n",
              "      width: 32px;\n",
              "    }\n",
              "\n",
              "    .colab-df-convert:hover {\n",
              "      background-color: #E2EBFA;\n",
              "      box-shadow: 0px 1px 2px rgba(60, 64, 67, 0.3), 0px 1px 3px 1px rgba(60, 64, 67, 0.15);\n",
              "      fill: #174EA6;\n",
              "    }\n",
              "\n",
              "    [theme=dark] .colab-df-convert {\n",
              "      background-color: #3B4455;\n",
              "      fill: #D2E3FC;\n",
              "    }\n",
              "\n",
              "    [theme=dark] .colab-df-convert:hover {\n",
              "      background-color: #434B5C;\n",
              "      box-shadow: 0px 1px 3px 1px rgba(0, 0, 0, 0.15);\n",
              "      filter: drop-shadow(0px 1px 2px rgba(0, 0, 0, 0.3));\n",
              "      fill: #FFFFFF;\n",
              "    }\n",
              "  </style>\n",
              "\n",
              "      <script>\n",
              "        const buttonEl =\n",
              "          document.querySelector('#df-a4e7cb00-91a4-42f6-90af-1960b37c8979 button.colab-df-convert');\n",
              "        buttonEl.style.display =\n",
              "          google.colab.kernel.accessAllowed ? 'block' : 'none';\n",
              "\n",
              "        async function convertToInteractive(key) {\n",
              "          const element = document.querySelector('#df-a4e7cb00-91a4-42f6-90af-1960b37c8979');\n",
              "          const dataTable =\n",
              "            await google.colab.kernel.invokeFunction('convertToInteractive',\n",
              "                                                     [key], {});\n",
              "          if (!dataTable) return;\n",
              "\n",
              "          const docLinkHtml = 'Like what you see? Visit the ' +\n",
              "            '<a target=\"_blank\" href=https://colab.research.google.com/notebooks/data_table.ipynb>data table notebook</a>'\n",
              "            + ' to learn more about interactive tables.';\n",
              "          element.innerHTML = '';\n",
              "          dataTable['output_type'] = 'display_data';\n",
              "          await google.colab.output.renderOutput(dataTable, element);\n",
              "          const docLink = document.createElement('div');\n",
              "          docLink.innerHTML = docLinkHtml;\n",
              "          element.appendChild(docLink);\n",
              "        }\n",
              "      </script>\n",
              "    </div>\n",
              "  </div>\n",
              "  "
            ]
          },
          "metadata": {},
          "execution_count": 15
        }
      ],
      "source": [
        "df2"
      ]
    },
    {
      "cell_type": "code",
      "execution_count": null,
      "metadata": {
        "id": "sYdrNSGi6f5J"
      },
      "outputs": [],
      "source": []
    },
    {
      "cell_type": "markdown",
      "metadata": {
        "id": "-ROxUhrSqIBi"
      },
      "source": [
        "## Here is a common-sense, non-machine learning baseline prediction"
      ]
    },
    {
      "cell_type": "code",
      "execution_count": 16,
      "metadata": {
        "colab": {
          "base_uri": "https://localhost:8080/"
        },
        "id": "s0LytAr8qFfv",
        "outputId": "3eefecb7-2d26-4105-cb2d-52c09fd5f5a0"
      },
      "outputs": [
        {
          "output_type": "stream",
          "name": "stdout",
          "text": [
            "0.5\n"
          ]
        }
      ],
      "source": [
        "average_rating=y_test.mean()\n",
        "mae=0\n",
        "for rating in y_test:\n",
        "  mae+=abs(rating-average_rating)\n",
        "print(mae/len(y_test))"
      ]
    },
    {
      "cell_type": "markdown",
      "metadata": {
        "id": "0t3yDGT2p000"
      },
      "source": [
        "In this case, the mean absolute percent error is about 0.5.  "
      ]
    },
    {
      "cell_type": "code",
      "execution_count": 17,
      "metadata": {
        "id": "-lAnZ2Y9Trn2"
      },
      "outputs": [],
      "source": [
        "df2 = df2.dropna()"
      ]
    },
    {
      "cell_type": "code",
      "execution_count": 18,
      "metadata": {
        "colab": {
          "base_uri": "https://localhost:8080/"
        },
        "id": "N3HOO5ZO6i5f",
        "outputId": "17dc1f48-9019-4457-e033-a681d3cd29bf"
      },
      "outputs": [
        {
          "output_type": "execute_result",
          "data": {
            "text/plain": [
              "50000"
            ]
          },
          "metadata": {},
          "execution_count": 18
        }
      ],
      "source": [
        "len(df2)"
      ]
    },
    {
      "cell_type": "code",
      "execution_count": 19,
      "metadata": {
        "colab": {
          "base_uri": "https://localhost:8080/",
          "height": 696
        },
        "id": "bk3atgFaeFMQ",
        "outputId": "b42e4522-e62b-43dc-dbc7-dac092792d7b"
      },
      "outputs": [
        {
          "output_type": "stream",
          "name": "stderr",
          "text": [
            "/usr/local/lib/python3.8/dist-packages/seaborn/_decorators.py:36: FutureWarning: Pass the following variable as a keyword arg: x. From version 0.12, the only valid positional argument will be `data`, and passing other arguments without an explicit keyword will result in an error or misinterpretation.\n",
            "  warnings.warn(\n"
          ]
        },
        {
          "output_type": "execute_result",
          "data": {
            "text/plain": [
              "Text(0.5, 1.0, 'Sentiment Bar Plot')"
            ]
          },
          "metadata": {},
          "execution_count": 19
        },
        {
          "output_type": "display_data",
          "data": {
            "text/plain": [
              "<Figure size 1152x720 with 1 Axes>"
            ],
            "image/png": "[encoded data removed]"
          },
          "metadata": {
            "needs_background": "light"
          }
        }
      ],
      "source": [
        "plt.figure(figsize = (16,10))\n",
        "sns.countplot(df2['sentiment_pos'])\n",
        "plt.title(\"Sentiment Bar Plot\")"
      ]
    },
    {
      "cell_type": "markdown",
      "metadata": {
        "id": "wr_9JrS7R33n"
      },
      "source": [
        "## Preparing data for model"
      ]
    },
    {
      "cell_type": "code",
      "execution_count": 20,
      "metadata": {
        "colab": {
          "base_uri": "https://localhost:8080/"
        },
        "id": "IaSMXjwEBCbK",
        "outputId": "57a15c27-f2cb-4906-9b7f-f771619a692b"
      },
      "outputs": [
        {
          "output_type": "stream",
          "name": "stdout",
          "text": [
            "45000 train sequences\n",
            "5000 test sequences\n",
            "Pad sequences (samples x text length)\n",
            "X_train shape: (45000, 200)\n",
            "X_test shape: (5000, 200)\n"
          ]
        }
      ],
      "source": [
        "from keras_preprocessing.sequence import pad_sequences\n",
        "from keras.preprocessing.text import Tokenizer\n",
        "from keras.models import Sequential\n",
        "from keras.layers import Embedding, SimpleRNN\n",
        "from keras.layers import Dense\n",
        "from keras.layers import Dropout\n",
        "\n",
        "# Number of words to consider as features\n",
        "max_features = 10000\n",
        "\n",
        "maxlen = 200 #Maximum sequence length\n",
        "batch_size = 64 #the number of rows of input for each step\n",
        "\n",
        "#Tokenizing\n",
        "tokenizer=Tokenizer(max_features,oov_token=\"<?>\")\n",
        "tokenizer.fit_on_texts(x_train)\n",
        "X_train=tokenizer.texts_to_sequences(x_train)\n",
        "X_test=tokenizer.texts_to_sequences(x_test) #Those 4 rows transforms each text in texts to a sequence of integers. So it basically takes each word in the text and replaces it with its corresponding integer value from 1 - max_features\n",
        "\n",
        "print(len(X_train), 'train sequences')\n",
        "print(len(X_test), 'test sequences')\n",
        "\n",
        "\n",
        "print('Pad sequences (samples x text length)')\n",
        "X_train = pad_sequences(X_train, maxlen=maxlen) #make sure that the length of every array reaches maxlen by filling zeros in front of all arrays. Not all text contents have the maxlen we set in original dataset.\n",
        "X_test = pad_sequences(X_test, maxlen=maxlen)\n",
        "print('X_train shape:', X_train.shape)\n",
        "print('X_test shape:', X_test.shape)"
      ]
    },
    {
      "cell_type": "markdown",
      "metadata": {
        "id": "iLMArX0wjx5j"
      },
      "source": [
        "## SimpleRNN"
      ]
    },
    {
      "cell_type": "code",
      "execution_count": 21,
      "metadata": {
        "colab": {
          "base_uri": "https://localhost:8080/"
        },
        "id": "7pPzgisSdh2c",
        "outputId": "9250b246-798a-466c-8a84-71f6dc05461e"
      },
      "outputs": [
        {
          "output_type": "stream",
          "name": "stdout",
          "text": [
            "Model: \"sequential\"\n",
            "_________________________________________________________________\n",
            " Layer (type)                Output Shape              Param #   \n",
            "=================================================================\n",
            " embedding (Embedding)       (None, 200, 64)           640000    \n",
            "                                                                 \n",
            " simple_rnn (SimpleRNN)      (None, 200, 32)           3104      \n",
            "                                                                 \n",
            " simple_rnn_1 (SimpleRNN)    (None, 200, 16)           784       \n",
            "                                                                 \n",
            " simple_rnn_2 (SimpleRNN)    (None, 32)                1568      \n",
            "                                                                 \n",
            " dense (Dense)               (None, 1)                 33        \n",
            "                                                                 \n",
            "=================================================================\n",
            "Total params: 645,489\n",
            "Trainable params: 645,489\n",
            "Non-trainable params: 0\n",
            "_________________________________________________________________\n"
          ]
        }
      ],
      "source": [
        "from keras.models import Sequential\n",
        "from keras.layers import Embedding, SimpleRNN\n",
        "from keras.layers import Dense\n",
        "from keras.layers import Dropout\n",
        "\n",
        "model = Sequential()\n",
        "# We specify the maximum input length to our Embedding layer\n",
        "# so we can later flatten the embedded inputs\n",
        "embedding_dim = 64\n",
        "#input_dim, output_dim, input_lenght\n",
        "model.add(Embedding(max_features, embedding_dim, input_length=maxlen))\n",
        "# After the Embedding layer, \n",
        "# our activations have shape `(samples, maxlen, 64)`.\n",
        "# when embedding connects to RNN or LSTM layers, flatten() is not needed.\n",
        "model.add(SimpleRNN(32, return_sequences=True))\n",
        "model.add(SimpleRNN(16, return_sequences=True))\n",
        "model.add(SimpleRNN(32)) # default activation is \"tanh\"\n",
        "model.add(Dense(1)) #this means we have only 1 number (1,2,3,4,5) to represent output rating.\n",
        "model.summary()"
      ]
    },
    {
      "cell_type": "code",
      "execution_count": 23,
      "metadata": {
        "colab": {
          "base_uri": "https://localhost:8080/"
        },
        "id": "iFpMx68zdh8a",
        "outputId": "ae6b7b2f-1844-45cd-8a02-af0be8c2e972"
      },
      "outputs": [
        {
          "output_type": "stream",
          "name": "stdout",
          "text": [
            "Epoch 1/10\n",
            "256/256 [==============================] - 96s 366ms/step - loss: 0.5285 - acc: 0.8018 - val_loss: 0.6129 - val_acc: 0.7694\n",
            "Epoch 2/10\n",
            "256/256 [==============================] - 94s 367ms/step - loss: 0.4273 - acc: 0.8503 - val_loss: 0.5273 - val_acc: 0.8426\n",
            "Epoch 3/10\n",
            "256/256 [==============================] - 94s 367ms/step - loss: 0.4047 - acc: 0.8455 - val_loss: 0.5611 - val_acc: 0.7946\n",
            "Epoch 4/10\n",
            "256/256 [==============================] - 95s 371ms/step - loss: 0.2922 - acc: 0.9107 - val_loss: 0.6086 - val_acc: 0.8118\n",
            "Epoch 5/10\n",
            "256/256 [==============================] - 93s 363ms/step - loss: 0.3701 - acc: 0.8807 - val_loss: 0.5504 - val_acc: 0.8332\n",
            "Epoch 6/10\n",
            "256/256 [==============================] - 94s 367ms/step - loss: 0.3910 - acc: 0.8683 - val_loss: 0.8934 - val_acc: 0.7924\n",
            "Epoch 7/10\n",
            "256/256 [==============================] - 94s 367ms/step - loss: 0.3456 - acc: 0.9032 - val_loss: 0.8877 - val_acc: 0.8200\n",
            "Epoch 8/10\n",
            "256/256 [==============================] - 94s 368ms/step - loss: 0.3636 - acc: 0.8951 - val_loss: 0.7113 - val_acc: 0.7482\n",
            "Epoch 9/10\n",
            "256/256 [==============================] - 94s 368ms/step - loss: 0.6378 - acc: 0.8080 - val_loss: 1.0368 - val_acc: 0.8088\n",
            "Epoch 10/10\n",
            "256/256 [==============================] - 93s 365ms/step - loss: 0.4683 - acc: 0.8903 - val_loss: 0.8617 - val_acc: 0.8016\n"
          ]
        }
      ],
      "source": [
        "model.compile(optimizer='adam', loss='binary_crossentropy', metrics='acc') #mape: Mean Absolute Percentage Error\n",
        " #mape: Mean Absolute Percentage Error\n",
        "history = model.fit(X_train, y_train,\n",
        "                    epochs=10,\n",
        "                    steps_per_epoch = 256,\n",
        "                    batch_size=batch_size,\n",
        "                   validation_data=(X_test,y_test))\n",
        "\n",
        "keras.backend.clear_session()\n",
        "del model"
      ]
    },
    {
      "cell_type": "code",
      "execution_count": 24,
      "metadata": {
        "colab": {
          "base_uri": "https://localhost:8080/",
          "height": 281
        },
        "id": "875EANm0dh_B",
        "outputId": "b5901b32-d086-4605-a7a3-385c6e349093"
      },
      "outputs": [
        {
          "output_type": "display_data",
          "data": {
            "text/plain": [
              "<Figure size 432x288 with 1 Axes>"
            ],
            "image/png": "[encoded data removed]"
          },
          "metadata": {
            "needs_background": "light"
          }
        }
      ],
      "source": [
        "import matplotlib.pyplot as plt\n",
        "\n",
        "acc = history.history['acc']\n",
        "val_acc = history.history['val_acc']\n",
        "loss = history.history['loss']\n",
        "val_loss = history.history['val_loss']\n",
        "\n",
        "epochs = range(len(loss))\n",
        "\n",
        "plt.plot(epochs, acc, 'r', label='Training acc')\n",
        "plt.plot(epochs, val_acc, 'b', label='Validation acc')\n",
        "plt.title('Training and validation acc')\n",
        "plt.legend()\n",
        "plt.ylim(ymax=0.9,ymin=0.6)\n",
        "\n",
        "plt.show()"
      ]
    },
    {
      "cell_type": "code",
      "execution_count": null,
      "metadata": {
        "colab": {
          "background_save": true
        },
        "id": "Hpg8N5iKdiBm"
      },
      "outputs": [],
      "source": []
    },
    {
      "cell_type": "markdown",
      "metadata": {
        "id": "5JkNUnu-SLZW"
      },
      "source": [
        "## CNN"
      ]
    },
    {
      "cell_type": "code",
      "execution_count": 34,
      "metadata": {
        "colab": {
          "base_uri": "https://localhost:8080/"
        },
        "id": "oo0VJgFediJa",
        "outputId": "36cd5696-d70a-46b8-9b0b-17a0d7e88aa7"
      },
      "outputs": [
        {
          "output_type": "stream",
          "name": "stdout",
          "text": [
            "Model: \"sequential\"\n",
            "_________________________________________________________________\n",
            " Layer (type)                Output Shape              Param #   \n",
            "=================================================================\n",
            " embedding (Embedding)       (None, 200, 64)           640000    \n",
            "                                                                 \n",
            " conv1d (Conv1D)             (None, 196, 64)           20544     \n",
            "                                                                 \n",
            " max_pooling1d (MaxPooling1D  (None, 65, 64)           0         \n",
            " )                                                               \n",
            "                                                                 \n",
            " conv1d_1 (Conv1D)           (None, 61, 32)            10272     \n",
            "                                                                 \n",
            " global_max_pooling1d (Globa  (None, 32)               0         \n",
            " lMaxPooling1D)                                                  \n",
            "                                                                 \n",
            " dense (Dense)               (None, 1)                 33        \n",
            "                                                                 \n",
            "=================================================================\n",
            "Total params: 670,849\n",
            "Trainable params: 670,849\n",
            "Non-trainable params: 0\n",
            "_________________________________________________________________\n"
          ]
        }
      ],
      "source": [
        "from keras import layers\n",
        "from tensorflow.keras.optimizers import RMSprop\n",
        "\n",
        "model = Sequential()\n",
        "model.add(Embedding(max_features, 64, input_length=maxlen))\n",
        "model.add(layers.Conv1D(64, 5, activation='relu')) #Note, we use Conv1d here instead of Conv2d in Lab 3. Thats because the input shape changes. (decrease)\n",
        "model.add(layers.MaxPooling1D(3))\n",
        "model.add(layers.Conv1D(32, 5, activation='relu'))\n",
        "model.add(layers.GlobalMaxPooling1D())\n",
        "model.add(layers.Dense(1))\n",
        "\n",
        "model.summary()"
      ]
    },
    {
      "cell_type": "code",
      "execution_count": 36,
      "metadata": {
        "colab": {
          "base_uri": "https://localhost:8080/"
        },
        "id": "_tJJEFQgdiMX",
        "outputId": "e70853d7-af79-40ff-92cc-57a0dab34218"
      },
      "outputs": [
        {
          "output_type": "stream",
          "name": "stdout",
          "text": [
            "Epoch 1/20\n",
            "256/256 [==============================] - 2s 5ms/step - loss: 0.6655 - acc: 0.6487 - val_loss: 0.4934 - val_acc: 0.7880\n",
            "Epoch 2/20\n",
            "256/256 [==============================] - 1s 5ms/step - loss: 0.6524 - acc: 0.7684 - val_loss: 0.4413 - val_acc: 0.8260\n",
            "Epoch 3/20\n",
            "256/256 [==============================] - 1s 5ms/step - loss: 0.4136 - acc: 0.8392 - val_loss: 0.3872 - val_acc: 0.8578\n",
            "Epoch 4/20\n",
            "256/256 [==============================] - 1s 4ms/step - loss: 0.6886 - acc: 0.8019 - val_loss: 0.9717 - val_acc: 0.5262\n",
            "Epoch 5/20\n",
            "256/256 [==============================] - 1s 4ms/step - loss: 0.4241 - acc: 0.8345 - val_loss: 0.4056 - val_acc: 0.8546\n",
            "Epoch 6/20\n",
            "256/256 [==============================] - 1s 4ms/step - loss: 0.3490 - acc: 0.8807 - val_loss: 0.4256 - val_acc: 0.8594\n",
            "Epoch 7/20\n",
            "256/256 [==============================] - 1s 4ms/step - loss: 0.3643 - acc: 0.8782 - val_loss: 0.4182 - val_acc: 0.8598\n",
            "Epoch 8/20\n",
            "256/256 [==============================] - 1s 4ms/step - loss: 0.3036 - acc: 0.8962 - val_loss: 0.4206 - val_acc: 0.8682\n",
            "Epoch 9/20\n",
            "256/256 [==============================] - 1s 4ms/step - loss: 0.2559 - acc: 0.9239 - val_loss: 0.4360 - val_acc: 0.8752\n",
            "Epoch 10/20\n",
            "256/256 [==============================] - 1s 4ms/step - loss: 0.2733 - acc: 0.9147 - val_loss: 0.4318 - val_acc: 0.8762\n",
            "Epoch 11/20\n",
            "256/256 [==============================] - 1s 4ms/step - loss: 0.2482 - acc: 0.9204 - val_loss: 0.4290 - val_acc: 0.8734\n",
            "Epoch 12/20\n",
            "256/256 [==============================] - 1s 4ms/step - loss: 0.1910 - acc: 0.9520 - val_loss: 0.4811 - val_acc: 0.8768\n",
            "Epoch 13/20\n",
            "256/256 [==============================] - 1s 4ms/step - loss: 0.1806 - acc: 0.9531 - val_loss: 0.5183 - val_acc: 0.8762\n",
            "Epoch 14/20\n",
            "256/256 [==============================] - 1s 4ms/step - loss: 0.1894 - acc: 0.9502 - val_loss: 0.5252 - val_acc: 0.8772\n",
            "Epoch 15/20\n",
            "256/256 [==============================] - 1s 4ms/step - loss: 0.1225 - acc: 0.9755 - val_loss: 0.6004 - val_acc: 0.8770\n",
            "Epoch 16/20\n",
            "256/256 [==============================] - 1s 4ms/step - loss: 0.1410 - acc: 0.9714 - val_loss: 0.6040 - val_acc: 0.8760\n",
            "Epoch 17/20\n",
            "256/256 [==============================] - 1s 4ms/step - loss: 0.1315 - acc: 0.9762 - val_loss: 0.6087 - val_acc: 0.8770\n",
            "Epoch 18/20\n",
            "256/256 [==============================] - 1s 4ms/step - loss: 0.1018 - acc: 0.9870 - val_loss: 0.6820 - val_acc: 0.8774\n",
            "Epoch 19/20\n",
            "256/256 [==============================] - 1s 4ms/step - loss: 0.0969 - acc: 0.9857 - val_loss: 0.7416 - val_acc: 0.8750\n",
            "Epoch 20/20\n",
            "256/256 [==============================] - 1s 4ms/step - loss: 0.0845 - acc: 0.9917 - val_loss: 0.7739 - val_acc: 0.8744\n"
          ]
        }
      ],
      "source": [
        "model.compile(optimizer='adam', loss='binary_crossentropy', metrics='acc') #mape: Mean Absolute Percentage Error\n",
        "history = model.fit(X_train, y_train,\n",
        "                    epochs=20,\n",
        "                    steps_per_epoch = 256,\n",
        "                    batch_size=batch_size,\n",
        "                   validation_data=(X_test,y_test))\n",
        "\n",
        "keras.backend.clear_session()\n",
        "del model"
      ]
    },
    {
      "cell_type": "code",
      "execution_count": 37,
      "metadata": {
        "colab": {
          "base_uri": "https://localhost:8080/",
          "height": 281
        },
        "id": "OMn1WGOWdiO7",
        "outputId": "72baa0d8-b1c0-46ab-d082-87586ba1f835"
      },
      "outputs": [
        {
          "output_type": "display_data",
          "data": {
            "text/plain": [
              "<Figure size 432x288 with 1 Axes>"
            ],
            "image/png": "[encoded data removed]"
          },
          "metadata": {
            "needs_background": "light"
          }
        }
      ],
      "source": [
        "import matplotlib.pyplot as plt\n",
        "\n",
        "acc = history.history['acc']\n",
        "val_acc = history.history['val_acc']\n",
        "loss = history.history['loss']\n",
        "val_loss = history.history['val_loss']\n",
        "\n",
        "epochs = range(len(loss))\n",
        "\n",
        "plt.plot(epochs, acc, 'r', label='Training acc')\n",
        "plt.plot(epochs, val_acc, 'b', label='Validation acc')\n",
        "plt.title('Training and validation acc')\n",
        "plt.legend()\n",
        "plt.ylim(ymax=1,ymin=0.6)\n",
        "\n",
        "plt.show()"
      ]
    },
    {
      "cell_type": "code",
      "execution_count": null,
      "metadata": {
        "colab": {
          "background_save": true
        },
        "id": "fzLoDPxCdiU6"
      },
      "outputs": [],
      "source": []
    },
    {
      "cell_type": "markdown",
      "metadata": {
        "id": "WdfddlTUS24f"
      },
      "source": [
        "## LSTM"
      ]
    },
    {
      "cell_type": "code",
      "execution_count": null,
      "metadata": {
        "colab": {
          "background_save": true
        },
        "id": "mqVEnnOAdiXi",
        "outputId": "84adc4c6-768e-4961-8944-353ef25e1022"
      },
      "outputs": [
        {
          "name": "stderr",
          "output_type": "stream",
          "text": [
            "WARNING:tensorflow:Layer lstm will not use cuDNN kernels since it doesn't meet the criteria. It will use a generic GPU kernel as fallback when running on GPU.\n"
          ]
        },
        {
          "name": "stdout",
          "output_type": "stream",
          "text": [
            "Model: \"sequential\"\n",
            "_________________________________________________________________\n",
            " Layer (type)                Output Shape              Param #   \n",
            "=================================================================\n",
            " embedding (Embedding)       (None, 200, 64)           640000    \n",
            "                                                                 \n",
            " lstm (LSTM)                 (None, 32)                12416     \n",
            "                                                                 \n",
            " dense (Dense)               (None, 1)                 33        \n",
            "                                                                 \n",
            "=================================================================\n",
            "Total params: 652,449\n",
            "Trainable params: 652,449\n",
            "Non-trainable params: 0\n",
            "_________________________________________________________________\n"
          ]
        }
      ],
      "source": [
        "model = Sequential()\n",
        "model.add(Embedding(max_features,64, input_length=maxlen))\n",
        "model.add(layers.LSTM(32,dropout=0.2,recurrent_dropout=0.2)) #notice that we add recurrent_dropout here. \n",
        "model.add(layers.Dense(1))\n",
        "\n",
        "model.summary()"
      ]
    },
    {
      "cell_type": "code",
      "execution_count": null,
      "metadata": {
        "colab": {
          "background_save": true
        },
        "id": "FCHTJTpbdiam",
        "outputId": "a87f73fe-ac25-4470-d817-12dfee2bfb8a"
      },
      "outputs": [
        {
          "name": "stdout",
          "output_type": "stream",
          "text": [
            "Epoch 1/20\n",
            "256/256 [==============================] - 159s 610ms/step - loss: 0.6703 - acc: 0.6899 - val_loss: 0.4970 - val_acc: 0.8078\n",
            "Epoch 2/20\n",
            "256/256 [==============================] - 156s 608ms/step - loss: 0.5363 - acc: 0.7671 - val_loss: 0.6048 - val_acc: 0.6966\n",
            "Epoch 3/20\n",
            "256/256 [==============================] - 155s 605ms/step - loss: 0.4732 - acc: 0.7988 - val_loss: 0.4027 - val_acc: 0.8492\n",
            "Epoch 4/20\n",
            "256/256 [==============================] - 154s 603ms/step - loss: 0.3928 - acc: 0.8543 - val_loss: 0.4365 - val_acc: 0.8514\n",
            "Epoch 5/20\n",
            "256/256 [==============================] - 155s 605ms/step - loss: 0.5406 - acc: 0.7404 - val_loss: 0.5680 - val_acc: 0.7116\n",
            "Epoch 6/20\n",
            "256/256 [==============================] - 154s 602ms/step - loss: 0.4884 - acc: 0.7865 - val_loss: 0.4805 - val_acc: 0.8582\n",
            "Epoch 7/20\n",
            "256/256 [==============================] - 154s 602ms/step - loss: 0.3541 - acc: 0.8798 - val_loss: 0.4471 - val_acc: 0.8740\n",
            "Epoch 8/20\n",
            "256/256 [==============================] - 154s 601ms/step - loss: 0.3415 - acc: 0.8863 - val_loss: 0.3762 - val_acc: 0.8862\n",
            "Epoch 9/20\n",
            "256/256 [==============================] - 154s 600ms/step - loss: 0.2672 - acc: 0.9084 - val_loss: 0.4561 - val_acc: 0.8848\n",
            "Epoch 10/20\n",
            "256/256 [==============================] - 153s 598ms/step - loss: 0.2856 - acc: 0.9064 - val_loss: 0.3986 - val_acc: 0.8892\n",
            "Epoch 11/20\n",
            "256/256 [==============================] - 154s 601ms/step - loss: 0.3864 - acc: 0.8416 - val_loss: 0.5081 - val_acc: 0.7954\n",
            "Epoch 12/20\n",
            "256/256 [==============================] - 154s 601ms/step - loss: 0.3159 - acc: 0.8942 - val_loss: 0.4914 - val_acc: 0.7922\n",
            "Epoch 13/20\n",
            "256/256 [==============================] - 154s 603ms/step - loss: 0.3584 - acc: 0.8796 - val_loss: 0.4521 - val_acc: 0.8372\n",
            "Epoch 14/20\n",
            "256/256 [==============================] - 153s 599ms/step - loss: 0.3205 - acc: 0.8845 - val_loss: 0.4135 - val_acc: 0.8738\n",
            "Epoch 15/20\n",
            "256/256 [==============================] - 154s 601ms/step - loss: 0.2637 - acc: 0.9121 - val_loss: 0.3849 - val_acc: 0.8762\n",
            "Epoch 16/20\n",
            "256/256 [==============================] - 154s 600ms/step - loss: 0.4103 - acc: 0.8305 - val_loss: 0.5231 - val_acc: 0.7708\n",
            "Epoch 17/20\n",
            "256/256 [==============================] - 153s 599ms/step - loss: 0.3786 - acc: 0.8432 - val_loss: 0.5550 - val_acc: 0.8244\n",
            "Epoch 18/20\n",
            "256/256 [==============================] - 153s 598ms/step - loss: 0.3590 - acc: 0.8691 - val_loss: 0.4935 - val_acc: 0.8490\n",
            "Epoch 19/20\n",
            "256/256 [==============================] - 153s 598ms/step - loss: 0.4459 - acc: 0.7968 - val_loss: 0.5415 - val_acc: 0.7522\n",
            "Epoch 20/20\n",
            "256/256 [==============================] - 154s 600ms/step - loss: 0.3554 - acc: 0.8678 - val_loss: 0.5599 - val_acc: 0.8578\n"
          ]
        }
      ],
      "source": [
        "model.compile(optimizer='adam', loss='binary_crossentropy', metrics='acc') \n",
        "history = model.fit(X_train, y_train,\n",
        "                    epochs=20,\n",
        "                    steps_per_epoch = 256,\n",
        "                    batch_size=batch_size,\n",
        "                   validation_data=(X_test,y_test))\n",
        "\n",
        "keras.backend.clear_session()\n",
        "del model"
      ]
    },
    {
      "cell_type": "code",
      "execution_count": null,
      "metadata": {
        "colab": {
          "background_save": true
        },
        "id": "jd9y1JxSdidu",
        "outputId": "2b6e6286-846c-4eb9-95ef-0f2201eb4778"
      },
      "outputs": [
        {
          "data": {
            "image/png": "[encoded data removed]",
            "text/plain": [
              "<Figure size 432x288 with 1 Axes>"
            ]
          },
          "metadata": {},
          "output_type": "display_data"
        }
      ],
      "source": [
        "\n",
        "acc = history.history['acc']\n",
        "val_acc = history.history['val_acc']\n",
        "loss = history.history['loss']\n",
        "val_loss = history.history['val_loss']\n",
        "\n",
        "epochs = range(len(loss))\n",
        "\n",
        "plt.plot(epochs, acc, 'r', label='Training acc')\n",
        "plt.plot(epochs, val_acc, 'b', label='Validation acc')\n",
        "plt.title('Training and validation acc')\n",
        "plt.legend()\n",
        "plt.ylim(ymax=1,ymin=0.7)\n",
        "\n",
        "plt.show()"
      ]
    },
    {
      "cell_type": "code",
      "execution_count": null,
      "metadata": {
        "colab": {
          "background_save": true
        },
        "id": "FhiKf0FGdigc"
      },
      "outputs": [],
      "source": []
    },
    {
      "cell_type": "code",
      "execution_count": null,
      "metadata": {
        "colab": {
          "background_save": true
        },
        "id": "DumoAl4NdijA"
      },
      "outputs": [],
      "source": []
    },
    {
      "cell_type": "code",
      "execution_count": null,
      "metadata": {
        "colab": {
          "background_save": true
        },
        "id": "fSSTfvH5iu-T"
      },
      "outputs": [],
      "source": []
    },
    {
      "cell_type": "markdown",
      "metadata": {
        "id": "bD2nUeRvnTQh"
      },
      "source": [
        "## Bert"
      ]
    },
    {
      "cell_type": "code",
      "execution_count": 16,
      "metadata": {
        "id": "p9FKzkvKivAg"
      },
      "outputs": [],
      "source": [
        "\n",
        "import re\n",
        "import matplotlib.pyplot as plt\n",
        "import seaborn as sns\n",
        "import keras\n",
        "from tensorflow.keras.models import Model\n",
        "import tensorflow as tf\n",
        "import tensorflow_hub as hub\n",
        "import os\n",
        "import warnings\n",
        "warnings.filterwarnings('ignore')\n",
        "os.environ['TF_CPP_MIN_LOG_LEVEL'] = '3'"
      ]
    },
    {
      "cell_type": "code",
      "execution_count": 17,
      "metadata": {
        "colab": {
          "base_uri": "https://localhost:8080/",
          "height": 424
        },
        "id": "UBSTS9RPr2iY",
        "outputId": "78ca144f-42f4-4089-8bb6-34ce8f5531ef"
      },
      "outputs": [
        {
          "output_type": "execute_result",
          "data": {
            "text/plain": [
              "                                                    text  sentiment_pos\n",
              "0      Now, I won't deny that when I purchased this o...            0.0\n",
              "1      The saddest thing about this \"tribute\" is that...            0.0\n",
              "2      Last night I decided to watch the prequel or s...            0.0\n",
              "3      I have to admit that i liked the first half of...            0.0\n",
              "4      I was not impressed about this film especially...            0.0\n",
              "...                                                  ...            ...\n",
              "49995  For one thing, he produced this movie. It has ...            0.0\n",
              "49996  The title comes from an alteration an adolesce...            1.0\n",
              "49997  Christopher Nolan's first film is a 'no budget...            1.0\n",
              "49998  The story is shortly about the faith-lacking b...            0.0\n",
              "49999  I found parts of this movie rather slow, espec...            1.0\n",
              "\n",
              "[50000 rows x 2 columns]"
            ],
            "text/html": [
              "\n",
              "  <div id=\"df-49023570-1809-4153-bdfb-613a833da03f\">\n",
              "    <div class=\"colab-df-container\">\n",
              "      <div>\n",
              "<style scoped>\n",
              "    .dataframe tbody tr th:only-of-type {\n",
              "        vertical-align: middle;\n",
              "    }\n",
              "\n",
              "    .dataframe tbody tr th {\n",
              "        vertical-align: top;\n",
              "    }\n",
              "\n",
              "    .dataframe thead th {\n",
              "        text-align: right;\n",
              "    }\n",
              "</style>\n",
              "<table border=\"1\" class=\"dataframe\">\n",
              "  <thead>\n",
              "    <tr style=\"text-align: right;\">\n",
              "      <th></th>\n",
              "      <th>text</th>\n",
              "      <th>sentiment_pos</th>\n",
              "    </tr>\n",
              "  </thead>\n",
              "  <tbody>\n",
              "    <tr>\n",
              "      <th>0</th>\n",
              "      <td>Now, I won't deny that when I purchased this o...</td>\n",
              "      <td>0.0</td>\n",
              "    </tr>\n",
              "    <tr>\n",
              "      <th>1</th>\n",
              "      <td>The saddest thing about this \"tribute\" is that...</td>\n",
              "      <td>0.0</td>\n",
              "    </tr>\n",
              "    <tr>\n",
              "      <th>2</th>\n",
              "      <td>Last night I decided to watch the prequel or s...</td>\n",
              "      <td>0.0</td>\n",
              "    </tr>\n",
              "    <tr>\n",
              "      <th>3</th>\n",
              "      <td>I have to admit that i liked the first half of...</td>\n",
              "      <td>0.0</td>\n",
              "    </tr>\n",
              "    <tr>\n",
              "      <th>4</th>\n",
              "      <td>I was not impressed about this film especially...</td>\n",
              "      <td>0.0</td>\n",
              "    </tr>\n",
              "    <tr>\n",
              "      <th>...</th>\n",
              "      <td>...</td>\n",
              "      <td>...</td>\n",
              "    </tr>\n",
              "    <tr>\n",
              "      <th>49995</th>\n",
              "      <td>For one thing, he produced this movie. It has ...</td>\n",
              "      <td>0.0</td>\n",
              "    </tr>\n",
              "    <tr>\n",
              "      <th>49996</th>\n",
              "      <td>The title comes from an alteration an adolesce...</td>\n",
              "      <td>1.0</td>\n",
              "    </tr>\n",
              "    <tr>\n",
              "      <th>49997</th>\n",
              "      <td>Christopher Nolan's first film is a 'no budget...</td>\n",
              "      <td>1.0</td>\n",
              "    </tr>\n",
              "    <tr>\n",
              "      <th>49998</th>\n",
              "      <td>The story is shortly about the faith-lacking b...</td>\n",
              "      <td>0.0</td>\n",
              "    </tr>\n",
              "    <tr>\n",
              "      <th>49999</th>\n",
              "      <td>I found parts of this movie rather slow, espec...</td>\n",
              "      <td>1.0</td>\n",
              "    </tr>\n",
              "  </tbody>\n",
              "</table>\n",
              "<p>50000 rows × 2 columns</p>\n",
              "</div>\n",
              "      <button class=\"colab-df-convert\" onclick=\"convertToInteractive('df-49023570-1809-4153-bdfb-613a833da03f')\"\n",
              "              title=\"Convert this dataframe to an interactive table.\"\n",
              "              style=\"display:none;\">\n",
              "        \n",
              "  <svg xmlns=\"http://www.w3.org/2000/svg\" height=\"24px\"viewBox=\"0 0 24 24\"\n",
              "       width=\"24px\">\n",
              "    <path d=\"M0 0h24v24H0V0z\" fill=\"none\"/>\n",
              "    <path d=\"M18.56 5.44l.94 2.06.94-2.06 2.06-.94-2.06-.94-.94-2.06-.94 2.06-2.06.94zm-11 1L8.5 8.5l.94-2.06 2.06-.94-2.06-.94L8.5 2.5l-.94 2.06-2.06.94zm10 10l.94 2.06.94-2.06 2.06-.94-2.06-.94-.94-2.06-.94 2.06-2.06.94z\"/><path d=\"M17.41 7.96l-1.37-1.37c-.4-.4-.92-.59-1.43-.59-.52 0-1.04.2-1.43.59L10.3 9.45l-7.72 7.72c-.78.78-.78 2.05 0 2.83L4 21.41c.39.39.9.59 1.41.59.51 0 1.02-.2 1.41-.59l7.78-7.78 2.81-2.81c.8-.78.8-2.07 0-2.86zM5.41 20L4 18.59l7.72-7.72 1.47 1.35L5.41 20z\"/>\n",
              "  </svg>\n",
              "      </button>\n",
              "      \n",
              "  <style>\n",
              "    .colab-df-container {\n",
              "      display:flex;\n",
              "      flex-wrap:wrap;\n",
              "      gap: 12px;\n",
              "    }\n",
              "\n",
              "    .colab-df-convert {\n",
              "      background-color: #E8F0FE;\n",
              "      border: none;\n",
              "      border-radius: 50%;\n",
              "      cursor: pointer;\n",
              "      display: none;\n",
              "      fill: #1967D2;\n",
              "      height: 32px;\n",
              "      padding: 0 0 0 0;\n",
              "      width: 32px;\n",
              "    }\n",
              "\n",
              "    .colab-df-convert:hover {\n",
              "      background-color: #E2EBFA;\n",
              "      box-shadow: 0px 1px 2px rgba(60, 64, 67, 0.3), 0px 1px 3px 1px rgba(60, 64, 67, 0.15);\n",
              "      fill: #174EA6;\n",
              "    }\n",
              "\n",
              "    [theme=dark] .colab-df-convert {\n",
              "      background-color: #3B4455;\n",
              "      fill: #D2E3FC;\n",
              "    }\n",
              "\n",
              "    [theme=dark] .colab-df-convert:hover {\n",
              "      background-color: #434B5C;\n",
              "      box-shadow: 0px 1px 3px 1px rgba(0, 0, 0, 0.15);\n",
              "      filter: drop-shadow(0px 1px 2px rgba(0, 0, 0, 0.3));\n",
              "      fill: #FFFFFF;\n",
              "    }\n",
              "  </style>\n",
              "\n",
              "      <script>\n",
              "        const buttonEl =\n",
              "          document.querySelector('#df-49023570-1809-4153-bdfb-613a833da03f button.colab-df-convert');\n",
              "        buttonEl.style.display =\n",
              "          google.colab.kernel.accessAllowed ? 'block' : 'none';\n",
              "\n",
              "        async function convertToInteractive(key) {\n",
              "          const element = document.querySelector('#df-49023570-1809-4153-bdfb-613a833da03f');\n",
              "          const dataTable =\n",
              "            await google.colab.kernel.invokeFunction('convertToInteractive',\n",
              "                                                     [key], {});\n",
              "          if (!dataTable) return;\n",
              "\n",
              "          const docLinkHtml = 'Like what you see? Visit the ' +\n",
              "            '<a target=\"_blank\" href=https://colab.research.google.com/notebooks/data_table.ipynb>data table notebook</a>'\n",
              "            + ' to learn more about interactive tables.';\n",
              "          element.innerHTML = '';\n",
              "          dataTable['output_type'] = 'display_data';\n",
              "          await google.colab.output.renderOutput(dataTable, element);\n",
              "          const docLink = document.createElement('div');\n",
              "          docLink.innerHTML = docLinkHtml;\n",
              "          element.appendChild(docLink);\n",
              "        }\n",
              "      </script>\n",
              "    </div>\n",
              "  </div>\n",
              "  "
            ]
          },
          "metadata": {},
          "execution_count": 17
        }
      ],
      "source": [
        "df2"
      ]
    },
    {
      "cell_type": "code",
      "execution_count": 18,
      "metadata": {
        "id": "qQ85L9FusNFG"
      },
      "outputs": [],
      "source": [
        "# Add a 'len' column to the DataFrame containing the number of words in each row of the 'text' column\n",
        "df2['len'] = df2['text'].str.split().apply(len)"
      ]
    },
    {
      "cell_type": "code",
      "execution_count": 19,
      "metadata": {
        "colab": {
          "base_uri": "https://localhost:8080/",
          "height": 424
        },
        "id": "-kjAqmussmHg",
        "outputId": "337d4238-f2a5-4479-a13e-bf8200db79d9"
      },
      "outputs": [
        {
          "output_type": "execute_result",
          "data": {
            "text/plain": [
              "                                                    text  sentiment_pos  len\n",
              "0      Now, I won't deny that when I purchased this o...            0.0  137\n",
              "1      The saddest thing about this \"tribute\" is that...            0.0  313\n",
              "2      Last night I decided to watch the prequel or s...            0.0  180\n",
              "3      I have to admit that i liked the first half of...            0.0  162\n",
              "4      I was not impressed about this film especially...            0.0  195\n",
              "...                                                  ...            ...  ...\n",
              "49995  For one thing, he produced this movie. It has ...            0.0  147\n",
              "49996  The title comes from an alteration an adolesce...            1.0  549\n",
              "49997  Christopher Nolan's first film is a 'no budget...            1.0  108\n",
              "49998  The story is shortly about the faith-lacking b...            0.0  287\n",
              "49999  I found parts of this movie rather slow, espec...            1.0   88\n",
              "\n",
              "[50000 rows x 3 columns]"
            ],
            "text/html": [
              "\n",
              "  <div id=\"df-33295751-c1a2-4969-bf54-90aff466123d\">\n",
              "    <div class=\"colab-df-container\">\n",
              "      <div>\n",
              "<style scoped>\n",
              "    .dataframe tbody tr th:only-of-type {\n",
              "        vertical-align: middle;\n",
              "    }\n",
              "\n",
              "    .dataframe tbody tr th {\n",
              "        vertical-align: top;\n",
              "    }\n",
              "\n",
              "    .dataframe thead th {\n",
              "        text-align: right;\n",
              "    }\n",
              "</style>\n",
              "<table border=\"1\" class=\"dataframe\">\n",
              "  <thead>\n",
              "    <tr style=\"text-align: right;\">\n",
              "      <th></th>\n",
              "      <th>text</th>\n",
              "      <th>sentiment_pos</th>\n",
              "      <th>len</th>\n",
              "    </tr>\n",
              "  </thead>\n",
              "  <tbody>\n",
              "    <tr>\n",
              "      <th>0</th>\n",
              "      <td>Now, I won't deny that when I purchased this o...</td>\n",
              "      <td>0.0</td>\n",
              "      <td>137</td>\n",
              "    </tr>\n",
              "    <tr>\n",
              "      <th>1</th>\n",
              "      <td>The saddest thing about this \"tribute\" is that...</td>\n",
              "      <td>0.0</td>\n",
              "      <td>313</td>\n",
              "    </tr>\n",
              "    <tr>\n",
              "      <th>2</th>\n",
              "      <td>Last night I decided to watch the prequel or s...</td>\n",
              "      <td>0.0</td>\n",
              "      <td>180</td>\n",
              "    </tr>\n",
              "    <tr>\n",
              "      <th>3</th>\n",
              "      <td>I have to admit that i liked the first half of...</td>\n",
              "      <td>0.0</td>\n",
              "      <td>162</td>\n",
              "    </tr>\n",
              "    <tr>\n",
              "      <th>4</th>\n",
              "      <td>I was not impressed about this film especially...</td>\n",
              "      <td>0.0</td>\n",
              "      <td>195</td>\n",
              "    </tr>\n",
              "    <tr>\n",
              "      <th>...</th>\n",
              "      <td>...</td>\n",
              "      <td>...</td>\n",
              "      <td>...</td>\n",
              "    </tr>\n",
              "    <tr>\n",
              "      <th>49995</th>\n",
              "      <td>For one thing, he produced this movie. It has ...</td>\n",
              "      <td>0.0</td>\n",
              "      <td>147</td>\n",
              "    </tr>\n",
              "    <tr>\n",
              "      <th>49996</th>\n",
              "      <td>The title comes from an alteration an adolesce...</td>\n",
              "      <td>1.0</td>\n",
              "      <td>549</td>\n",
              "    </tr>\n",
              "    <tr>\n",
              "      <th>49997</th>\n",
              "      <td>Christopher Nolan's first film is a 'no budget...</td>\n",
              "      <td>1.0</td>\n",
              "      <td>108</td>\n",
              "    </tr>\n",
              "    <tr>\n",
              "      <th>49998</th>\n",
              "      <td>The story is shortly about the faith-lacking b...</td>\n",
              "      <td>0.0</td>\n",
              "      <td>287</td>\n",
              "    </tr>\n",
              "    <tr>\n",
              "      <th>49999</th>\n",
              "      <td>I found parts of this movie rather slow, espec...</td>\n",
              "      <td>1.0</td>\n",
              "      <td>88</td>\n",
              "    </tr>\n",
              "  </tbody>\n",
              "</table>\n",
              "<p>50000 rows × 3 columns</p>\n",
              "</div>\n",
              "      <button class=\"colab-df-convert\" onclick=\"convertToInteractive('df-33295751-c1a2-4969-bf54-90aff466123d')\"\n",
              "              title=\"Convert this dataframe to an interactive table.\"\n",
              "              style=\"display:none;\">\n",
              "        \n",
              "  <svg xmlns=\"http://www.w3.org/2000/svg\" height=\"24px\"viewBox=\"0 0 24 24\"\n",
              "       width=\"24px\">\n",
              "    <path d=\"M0 0h24v24H0V0z\" fill=\"none\"/>\n",
              "    <path d=\"M18.56 5.44l.94 2.06.94-2.06 2.06-.94-2.06-.94-.94-2.06-.94 2.06-2.06.94zm-11 1L8.5 8.5l.94-2.06 2.06-.94-2.06-.94L8.5 2.5l-.94 2.06-2.06.94zm10 10l.94 2.06.94-2.06 2.06-.94-2.06-.94-.94-2.06-.94 2.06-2.06.94z\"/><path d=\"M17.41 7.96l-1.37-1.37c-.4-.4-.92-.59-1.43-.59-.52 0-1.04.2-1.43.59L10.3 9.45l-7.72 7.72c-.78.78-.78 2.05 0 2.83L4 21.41c.39.39.9.59 1.41.59.51 0 1.02-.2 1.41-.59l7.78-7.78 2.81-2.81c.8-.78.8-2.07 0-2.86zM5.41 20L4 18.59l7.72-7.72 1.47 1.35L5.41 20z\"/>\n",
              "  </svg>\n",
              "      </button>\n",
              "      \n",
              "  <style>\n",
              "    .colab-df-container {\n",
              "      display:flex;\n",
              "      flex-wrap:wrap;\n",
              "      gap: 12px;\n",
              "    }\n",
              "\n",
              "    .colab-df-convert {\n",
              "      background-color: #E8F0FE;\n",
              "      border: none;\n",
              "      border-radius: 50%;\n",
              "      cursor: pointer;\n",
              "      display: none;\n",
              "      fill: #1967D2;\n",
              "      height: 32px;\n",
              "      padding: 0 0 0 0;\n",
              "      width: 32px;\n",
              "    }\n",
              "\n",
              "    .colab-df-convert:hover {\n",
              "      background-color: #E2EBFA;\n",
              "      box-shadow: 0px 1px 2px rgba(60, 64, 67, 0.3), 0px 1px 3px 1px rgba(60, 64, 67, 0.15);\n",
              "      fill: #174EA6;\n",
              "    }\n",
              "\n",
              "    [theme=dark] .colab-df-convert {\n",
              "      background-color: #3B4455;\n",
              "      fill: #D2E3FC;\n",
              "    }\n",
              "\n",
              "    [theme=dark] .colab-df-convert:hover {\n",
              "      background-color: #434B5C;\n",
              "      box-shadow: 0px 1px 3px 1px rgba(0, 0, 0, 0.15);\n",
              "      filter: drop-shadow(0px 1px 2px rgba(0, 0, 0, 0.3));\n",
              "      fill: #FFFFFF;\n",
              "    }\n",
              "  </style>\n",
              "\n",
              "      <script>\n",
              "        const buttonEl =\n",
              "          document.querySelector('#df-33295751-c1a2-4969-bf54-90aff466123d button.colab-df-convert');\n",
              "        buttonEl.style.display =\n",
              "          google.colab.kernel.accessAllowed ? 'block' : 'none';\n",
              "\n",
              "        async function convertToInteractive(key) {\n",
              "          const element = document.querySelector('#df-33295751-c1a2-4969-bf54-90aff466123d');\n",
              "          const dataTable =\n",
              "            await google.colab.kernel.invokeFunction('convertToInteractive',\n",
              "                                                     [key], {});\n",
              "          if (!dataTable) return;\n",
              "\n",
              "          const docLinkHtml = 'Like what you see? Visit the ' +\n",
              "            '<a target=\"_blank\" href=https://colab.research.google.com/notebooks/data_table.ipynb>data table notebook</a>'\n",
              "            + ' to learn more about interactive tables.';\n",
              "          element.innerHTML = '';\n",
              "          dataTable['output_type'] = 'display_data';\n",
              "          await google.colab.output.renderOutput(dataTable, element);\n",
              "          const docLink = document.createElement('div');\n",
              "          docLink.innerHTML = docLinkHtml;\n",
              "          element.appendChild(docLink);\n",
              "        }\n",
              "      </script>\n",
              "    </div>\n",
              "  </div>\n",
              "  "
            ]
          },
          "metadata": {},
          "execution_count": 19
        }
      ],
      "source": [
        "df2"
      ]
    },
    {
      "cell_type": "code",
      "execution_count": 20,
      "metadata": {
        "colab": {
          "base_uri": "https://localhost:8080/"
        },
        "id": "pzAw7ApAUw7C",
        "outputId": "37cc701d-6937-4acc-a15e-a7b15bc17186"
      },
      "outputs": [
        {
          "output_type": "execute_result",
          "data": {
            "text/plain": [
              "count    50000.000000\n",
              "mean       231.156940\n",
              "std        171.343997\n",
              "min          4.000000\n",
              "25%        126.000000\n",
              "50%        173.000000\n",
              "75%        280.000000\n",
              "max       2470.000000\n",
              "Name: len, dtype: float64"
            ]
          },
          "metadata": {},
          "execution_count": 20
        }
      ],
      "source": [
        "df2['len'].describe()"
      ]
    },
    {
      "cell_type": "code",
      "execution_count": 21,
      "metadata": {
        "colab": {
          "base_uri": "https://localhost:8080/"
        },
        "id": "SEpBkJp7sqKn",
        "outputId": "48d80436-7643-4930-b874-7bb9a1a3c331"
      },
      "outputs": [
        {
          "output_type": "stream",
          "name": "stdout",
          "text": [
            "(40000, 2) (40000,) (10000, 2) (10000,)\n"
          ]
        }
      ],
      "source": [
        "from sklearn.model_selection import train_test_split\n",
        "X_train, X_test, y_train, y_test = train_test_split(df2[['text','len']],df2.sentiment_pos, test_size=0.2, random_state=42, stratify=df2.sentiment_pos)\n",
        "print(X_train.shape,y_train.shape,X_test.shape,y_test.shape)"
      ]
    },
    {
      "cell_type": "code",
      "execution_count": 27,
      "metadata": {
        "colab": {
          "base_uri": "https://localhost:8080/",
          "height": 201
        },
        "id": "B3xA1xqlqAS_",
        "outputId": "fc9463b3-be07-4aba-c226-1f8ee5a03fae"
      },
      "outputs": [
        {
          "output_type": "execute_result",
          "data": {
            "image/png": "[encoded data removed]",
            "text/plain": [
              "<IPython.core.display.Image object>"
            ]
          },
          "metadata": {},
          "execution_count": 27
        }
      ],
      "source": [
        "max_seq_length = 100\n",
        "\n",
        "# Clear the TensorFlow session to remove any previous model or layer definitions\n",
        "tf.keras.backend.clear_session()\n",
        "\n",
        "# Define input layers for the model\n",
        "input_word_ids = tf.keras.layers.Input(shape=(max_seq_length,), dtype=tf.int32, name=\"input_word_ids\")\n",
        "input_mask = tf.keras.layers.Input(shape=(max_seq_length,), dtype=tf.int32, name=\"input_mask\")\n",
        "segment_ids = tf.keras.layers.Input(shape=(max_seq_length,), dtype=tf.int32, name=\"segment_ids\")\n",
        "\n",
        "# Use the BERT layer from TensorFlow Hub as a layer in the model\n",
        "bert_layer = hub.KerasLayer(\"https://tfhub.dev/tensorflow/bert_en_uncased_L-12_H-768_A-12/1\", trainable=True) #use the smaller version of bert\n",
        "\n",
        "# Pass the input layers through the BERT layer to obtain the output tensors\n",
        "pooled_output, _ = bert_layer([input_word_ids, input_mask, segment_ids])\n",
        "\n",
        "# Add fully conect layer\n",
        "#dense1=Dense(128,activation='relu',name='dense1')(pooled_output)\n",
        "#dense2=Dense(64,activation='relu',name='dense2')(dense1)\n",
        "#output=Dense(1,activation='sigmoid',name='dense3')(dense2)\n",
        "\n",
        "# Define the model using the input layers and the output tensors\n",
        "model = Model(inputs=[input_word_ids, input_mask, segment_ids], outputs=pooled_output)\n",
        "\n",
        "tf.keras.utils.plot_model(model,'model_1.png',show_shapes=True)"
      ]
    },
    {
      "cell_type": "code",
      "execution_count": 28,
      "metadata": {
        "id": "K8IrBUOqtR9e"
      },
      "outputs": [],
      "source": [
        "!wget --quiet https://raw.githubusercontent.com/tensorflow/models/master/official/nlp/bert/tokenization.py"
      ]
    },
    {
      "cell_type": "code",
      "execution_count": 29,
      "metadata": {
        "colab": {
          "base_uri": "https://localhost:8080/"
        },
        "id": "EjSDfQjetR_z",
        "outputId": "13a75dae-5017-4b94-e7e8-a158b8aff3ce"
      },
      "outputs": [
        {
          "output_type": "stream",
          "name": "stdout",
          "text": [
            "Looking in indexes: https://pypi.org/simple, https://us-python.pkg.dev/colab-wheels/public/simple/\n",
            "Requirement already satisfied: bert-tensorflow==1.0.1 in /usr/local/lib/python3.8/dist-packages (1.0.1)\n",
            "Requirement already satisfied: six in /usr/local/lib/python3.8/dist-packages (from bert-tensorflow==1.0.1) (1.15.0)\n"
          ]
        }
      ],
      "source": [
        "!pip install bert-tensorflow==1.0.1\n",
        "from bert import tokenization\n",
        "tf.gfile = tf.io.gfile\n",
        "tokenizer =tokenization.FullTokenizer(bert_layer.resolved_object.vocab_file.asset_path.numpy(),bert_layer.resolved_object.do_lower_case.numpy())"
      ]
    },
    {
      "cell_type": "code",
      "execution_count": 30,
      "metadata": {
        "id": "LTBPOm04th9o"
      },
      "outputs": [],
      "source": [
        "def bert_preprocess(sentence, tokenizer, max_seq_len=512):\n",
        "    # Initialize empty lists for tokens, masks, and segments\n",
        "    tokens = []\n",
        "    masks = []\n",
        "    segments = []\n",
        "\n",
        "    # Iterate over each word in the sentence\n",
        "    for word in sentence:\n",
        "        # Tokenize the word\n",
        "        word_tokens = tokenizer.tokenize(word)\n",
        "        # Truncate the word tokens if necessary\n",
        "        word_tokens = word_tokens[:max_seq_len - 2]\n",
        "        # Add special tokens to the beginning and end of the word tokens\n",
        "        seq = [\"[CLS]\"] + word_tokens + [\"[SEP]\"]\n",
        "        # Convert the tokens to their corresponding IDs\n",
        "        token = tokenizer.convert_tokens_to_ids(seq)\n",
        "        # Pad the tokens with 0s if necessary\n",
        "        padding_tokens = token + [0] * (max_seq_len - len(token))\n",
        "        # Create a mask for the tokens\n",
        "        mask = [1] * len(seq)\n",
        "        # Pad the mask with 0s if necessary\n",
        "        masking = mask + [0] * (max_seq_len - len(token))\n",
        "        # Create a segment for the tokens\n",
        "        segment = np.zeros(max_seq_len)\n",
        "        \n",
        "        # Add the padded tokens, mask, and segment to the respective lists\n",
        "        tokens.append(padding_tokens)\n",
        "        masks.append(masking)\n",
        "        segments.append(segment)\n",
        "    \n",
        "    # Convert the lists to numpy arrays\n",
        "    tokens = np.array(tokens)\n",
        "    masks = np.array(masks)\n",
        "    segments = np.array(segments)\n",
        "    \n",
        "    return tokens, masks, segments\n"
      ]
    },
    {
      "cell_type": "code",
      "execution_count": 31,
      "metadata": {
        "id": "WtR0HcgBnsQy"
      },
      "outputs": [],
      "source": [
        "X_train_tokens, X_train_mask, X_train_segment=bert_preprocess(X_train.text.values.astype('str'),tokenizer,100)\n",
        "X_test_tokens, X_test_mask, X_test_segment=bert_preprocess(X_test.text.values.astype('str'),tokenizer,100)"
      ]
    },
    {
      "cell_type": "code",
      "execution_count": 32,
      "metadata": {
        "colab": {
          "base_uri": "https://localhost:8080/"
        },
        "id": "tBjsg5hunsTT",
        "outputId": "0518dc2d-fc0f-4ba0-86c4-3d7eab690aa3"
      },
      "outputs": [
        {
          "output_type": "stream",
          "name": "stdout",
          "text": [
            "1250/1250 [==============================] - 32s 24ms/step\n",
            "313/313 [==============================] - 9s 24ms/step\n"
          ]
        }
      ],
      "source": [
        "# Perform inference on the training data using the BERT model\n",
        "X_train_pooled_output = model.predict([X_train_tokens, X_train_mask, X_train_segment])\n",
        "\n",
        "# Perform inference on the test data using the BERT model\n",
        "X_test_pooled_output = model.predict([X_test_tokens, X_test_mask, X_test_segment])\n"
      ]
    },
    {
      "cell_type": "code",
      "execution_count": 33,
      "metadata": {
        "id": "KG8azN_fnsVb"
      },
      "outputs": [],
      "source": [
        "from sklearn.metrics import roc_auc_score"
      ]
    },
    {
      "cell_type": "code",
      "source": [
        "auc=[]\n",
        "val_auc=[]\n",
        "class LossHistory(tf.keras.callbacks.Callback):\n",
        "    \n",
        "    def on_train_begin(self, logs={}):\n",
        "        self.history={'val_accuracy': []}\n",
        "\n",
        "\n",
        "    def on_epoch_end(self, epoch, logs={}):\n",
        "        ## on end of each epoch, we will get logs and update the self.history dict\n",
        "        if logs.get('val_accuracy', -1) != -1:\n",
        "            self.history['val_accuracy'].append(logs.get('val_accuracy'))\n",
        "        auc_tr=(roc_auc_score(y_train,(self.model.predict(X_train_pooled_output))) )\n",
        "        auc_test=(roc_auc_score (y_test, (self.model.predict(X_test_pooled_output) ) ) )\n",
        "        print('\\n  train_auc : ',auc_tr)\n",
        "        print('  val_auc : ',auc_test)\n",
        "        auc.append(auc_tr)\n",
        "        val_auc.append(auc_test)\n",
        "        loss=logs.get('loss')\n"
      ],
      "metadata": {
        "id": "LkueIFqKf7d2"
      },
      "execution_count": 34,
      "outputs": []
    },
    {
      "cell_type": "code",
      "execution_count": 35,
      "metadata": {
        "id": "Ru2OmmxFnsak"
      },
      "outputs": [],
      "source": [
        "filepath=\"model1_save/weights-{epoch:02d}-{val_accuracy:.4f}.hdf5\"\n",
        "checkpoint = tf.keras.callbacks.ModelCheckpoint(filepath=filepath, monitor='val_loss',  verbose=1, save_best_only=True, mode='auto')\n",
        "\n",
        "history_own = LossHistory()\n",
        "\n",
        "earlystop = tf.keras.callbacks.EarlyStopping(monitor='val_accuracy',mode='max', patience=2, verbose=1)"
      ]
    },
    {
      "cell_type": "code",
      "source": [
        "from tensorflow.keras.layers import Input\n"
      ],
      "metadata": {
        "id": "EeK7ZoZAsqGE"
      },
      "execution_count": 38,
      "outputs": []
    },
    {
      "cell_type": "code",
      "execution_count": 39,
      "metadata": {
        "colab": {
          "base_uri": "https://localhost:8080/",
          "height": 312
        },
        "id": "fs91h4VQnsdc",
        "outputId": "a9f26bb9-6a23-495a-9b12-962dcb190d28"
      },
      "outputs": [
        {
          "output_type": "execute_result",
          "data": {
            "image/png": "[encoded data removed]",
            "text/plain": [
              "<IPython.core.display.Image object>"
            ]
          },
          "metadata": {},
          "execution_count": 39
        }
      ],
      "source": [
        "# Define the input layer\n",
        "input_layer = Input(shape=[768,], name='input_layer')\n",
        "\n",
        "# Define the third dense layer\n",
        "dense3 = Dense(32, activation='relu', name='dense_3')(input_layer)\n",
        "\n",
        "# Define the output layer\n",
        "output = Dense(1, activation='sigmoid', name='dense_4')(dense3)\n",
        "\n",
        "# Define the model\n",
        "model1 = Model(inputs=input_layer, outputs=output)\n",
        "\n",
        "# Plot the model\n",
        "tf.keras.utils.plot_model(model1, \"model_1.png\", show_shapes=True)\n"
      ]
    },
    {
      "cell_type": "code",
      "execution_count": 40,
      "metadata": {
        "id": "bdm-hJ3En4br"
      },
      "outputs": [],
      "source": [
        "opt= tf.keras.optimizers.Adam(learning_rate=0.002)\n",
        "model1.compile(optimizer=opt,loss=tf.keras.losses.BinaryCrossentropy(),metrics='accuracy')"
      ]
    },
    {
      "cell_type": "code",
      "source": [
        "model1.summary()"
      ],
      "metadata": {
        "colab": {
          "base_uri": "https://localhost:8080/"
        },
        "id": "shrUIui9iEZ2",
        "outputId": "d476ba2b-6bb0-40dd-8858-8e3160552f1b"
      },
      "execution_count": 41,
      "outputs": [
        {
          "output_type": "stream",
          "name": "stdout",
          "text": [
            "Model: \"model_1\"\n",
            "_________________________________________________________________\n",
            " Layer (type)                Output Shape              Param #   \n",
            "=================================================================\n",
            " input_layer (InputLayer)    [(None, 768)]             0         \n",
            "                                                                 \n",
            " dense_3 (Dense)             (None, 32)                24608     \n",
            "                                                                 \n",
            " dense_4 (Dense)             (None, 1)                 33        \n",
            "                                                                 \n",
            "=================================================================\n",
            "Total params: 24,641\n",
            "Trainable params: 24,641\n",
            "Non-trainable params: 0\n",
            "_________________________________________________________________\n"
          ]
        }
      ]
    },
    {
      "cell_type": "code",
      "execution_count": 42,
      "metadata": {
        "colab": {
          "base_uri": "https://localhost:8080/"
        },
        "id": "qlpXmH4Dn4hN",
        "outputId": "efc587ee-1176-4525-d9ae-818c862c2f78"
      },
      "outputs": [
        {
          "output_type": "stream",
          "name": "stdout",
          "text": [
            "Epoch 1/100\n",
            "1250/1250 [==============================] - 2s 1ms/step\n",
            "313/313 [==============================] - 0s 1ms/step\n",
            "\n",
            "  train_auc :  0.8306639012499999\n",
            "  val_auc :  0.83078104\n",
            "1250/1250 [==============================] - 6s 4ms/step - loss: 0.5712 - accuracy: 0.6981 - val_loss: 0.5220 - val_accuracy: 0.7345\n",
            "Epoch 2/100\n",
            "1250/1250 [==============================] - 2s 1ms/step\n",
            "313/313 [==============================] - 0s 1ms/step\n",
            "\n",
            "  train_auc :  0.83866647375\n",
            "  val_auc :  0.8374801999999999\n",
            "1250/1250 [==============================] - 5s 4ms/step - loss: 0.5221 - accuracy: 0.7402 - val_loss: 0.4980 - val_accuracy: 0.7583\n",
            "Epoch 3/100\n",
            "1250/1250 [==============================] - 2s 1ms/step\n",
            "313/313 [==============================] - 0s 1ms/step\n",
            "\n",
            "  train_auc :  0.8409424725000001\n",
            "  val_auc :  0.83858508\n",
            "1250/1250 [==============================] - 5s 4ms/step - loss: 0.5125 - accuracy: 0.7462 - val_loss: 0.5006 - val_accuracy: 0.7499\n",
            "Epoch 4/100\n",
            "1250/1250 [==============================] - 2s 1ms/step\n",
            "313/313 [==============================] - 0s 1ms/step\n",
            "\n",
            "  train_auc :  0.8522623825\n",
            "  val_auc :  0.8530068799999999\n",
            "1250/1250 [==============================] - 5s 4ms/step - loss: 0.5020 - accuracy: 0.7535 - val_loss: 0.4859 - val_accuracy: 0.7625\n",
            "Epoch 5/100\n",
            "1250/1250 [==============================] - 2s 1ms/step\n",
            "313/313 [==============================] - 0s 1ms/step\n",
            "\n",
            "  train_auc :  0.8500217\n",
            "  val_auc :  0.85195336\n",
            "1250/1250 [==============================] - 5s 4ms/step - loss: 0.4987 - accuracy: 0.7568 - val_loss: 0.4804 - val_accuracy: 0.7638\n",
            "Epoch 6/100\n",
            "1250/1250 [==============================] - 1s 1ms/step\n",
            "313/313 [==============================] - 0s 1ms/step\n",
            "\n",
            "  train_auc :  0.85569708\n",
            "  val_auc :  0.85594494\n",
            "1250/1250 [==============================] - 5s 4ms/step - loss: 0.4970 - accuracy: 0.7554 - val_loss: 0.4729 - val_accuracy: 0.7708\n",
            "Epoch 7/100\n",
            "1250/1250 [==============================] - 2s 1ms/step\n",
            "313/313 [==============================] - 0s 1ms/step\n",
            "\n",
            "  train_auc :  0.85682046125\n",
            "  val_auc :  0.8568030800000002\n",
            "1250/1250 [==============================] - 5s 4ms/step - loss: 0.4942 - accuracy: 0.7569 - val_loss: 0.4726 - val_accuracy: 0.7671\n",
            "Epoch 8/100\n",
            "1250/1250 [==============================] - 2s 1ms/step\n",
            "313/313 [==============================] - 0s 1ms/step\n",
            "\n",
            "  train_auc :  0.8567480375000001\n",
            "  val_auc :  0.85410024\n",
            "1250/1250 [==============================] - 5s 4ms/step - loss: 0.4881 - accuracy: 0.7617 - val_loss: 0.4801 - val_accuracy: 0.7627\n",
            "Epoch 9/100\n",
            "1250/1250 [==============================] - 2s 1ms/step\n",
            "313/313 [==============================] - 0s 1ms/step\n",
            "\n",
            "  train_auc :  0.8554528825000001\n",
            "  val_auc :  0.85346516\n",
            "1250/1250 [==============================] - 5s 4ms/step - loss: 0.4885 - accuracy: 0.7615 - val_loss: 0.5648 - val_accuracy: 0.7177\n",
            "Epoch 10/100\n",
            "1250/1250 [==============================] - 1s 1ms/step\n",
            "313/313 [==============================] - 0s 1ms/step\n",
            "\n",
            "  train_auc :  0.8593535825\n",
            "  val_auc :  0.8574759999999999\n",
            "1250/1250 [==============================] - 5s 4ms/step - loss: 0.4847 - accuracy: 0.7642 - val_loss: 0.4826 - val_accuracy: 0.7645\n",
            "Epoch 11/100\n",
            "1250/1250 [==============================] - 2s 1ms/step\n",
            "313/313 [==============================] - 0s 1ms/step\n",
            "\n",
            "  train_auc :  0.8618793124999999\n",
            "  val_auc :  0.8614316200000001\n",
            "1250/1250 [==============================] - 5s 4ms/step - loss: 0.4814 - accuracy: 0.7635 - val_loss: 0.4685 - val_accuracy: 0.7728\n",
            "Epoch 12/100\n",
            "1250/1250 [==============================] - 2s 1ms/step\n",
            "313/313 [==============================] - 0s 1ms/step\n",
            "\n",
            "  train_auc :  0.8630961075\n",
            "  val_auc :  0.86145768\n",
            "1250/1250 [==============================] - 5s 4ms/step - loss: 0.4837 - accuracy: 0.7655 - val_loss: 0.4663 - val_accuracy: 0.7756\n",
            "Epoch 13/100\n",
            "1250/1250 [==============================] - 2s 1ms/step\n",
            "313/313 [==============================] - 0s 1ms/step\n",
            "\n",
            "  train_auc :  0.8526700275\n",
            "  val_auc :  0.84910852\n",
            "1250/1250 [==============================] - 5s 4ms/step - loss: 0.4777 - accuracy: 0.7682 - val_loss: 0.4873 - val_accuracy: 0.7646\n",
            "Epoch 14/100\n",
            "1250/1250 [==============================] - 2s 1ms/step\n",
            "313/313 [==============================] - 0s 1ms/step\n",
            "\n",
            "  train_auc :  0.8643823624999999\n",
            "  val_auc :  0.86261696\n",
            "1250/1250 [==============================] - 5s 4ms/step - loss: 0.4790 - accuracy: 0.7672 - val_loss: 0.4627 - val_accuracy: 0.7786\n",
            "Epoch 15/100\n",
            "1250/1250 [==============================] - 1s 1ms/step\n",
            "313/313 [==============================] - 0s 1ms/step\n",
            "\n",
            "  train_auc :  0.8637865475\n",
            "  val_auc :  0.86231566\n",
            "1250/1250 [==============================] - 5s 4ms/step - loss: 0.4743 - accuracy: 0.7709 - val_loss: 0.4628 - val_accuracy: 0.7765\n",
            "Epoch 16/100\n",
            "1250/1250 [==============================] - 2s 1ms/step\n",
            "313/313 [==============================] - 0s 1ms/step\n",
            "\n",
            "  train_auc :  0.86469866\n",
            "  val_auc :  0.86342288\n",
            "1250/1250 [==============================] - 5s 4ms/step - loss: 0.4719 - accuracy: 0.7723 - val_loss: 0.4621 - val_accuracy: 0.7780\n",
            "Epoch 17/100\n",
            "1250/1250 [==============================] - 2s 1ms/step\n",
            "313/313 [==============================] - 0s 1ms/step\n",
            "\n",
            "  train_auc :  0.86401757375\n",
            "  val_auc :  0.8603400400000001\n",
            "1250/1250 [==============================] - 5s 4ms/step - loss: 0.4730 - accuracy: 0.7709 - val_loss: 0.4673 - val_accuracy: 0.7704\n",
            "Epoch 18/100\n",
            "1250/1250 [==============================] - 2s 1ms/step\n",
            "313/313 [==============================] - 0s 1ms/step\n",
            "\n",
            "  train_auc :  0.864816385\n",
            "  val_auc :  0.8624741\n",
            "1250/1250 [==============================] - 7s 6ms/step - loss: 0.4717 - accuracy: 0.7713 - val_loss: 0.5101 - val_accuracy: 0.7457\n",
            "Epoch 19/100\n",
            "1250/1250 [==============================] - 2s 1ms/step\n",
            "313/313 [==============================] - 0s 1ms/step\n",
            "\n",
            "  train_auc :  0.86483624625\n",
            "  val_auc :  0.8625918399999999\n",
            "1250/1250 [==============================] - 5s 4ms/step - loss: 0.4717 - accuracy: 0.7702 - val_loss: 0.4855 - val_accuracy: 0.7640\n",
            "Epoch 20/100\n",
            "1250/1250 [==============================] - 2s 1ms/step\n",
            "313/313 [==============================] - 0s 1ms/step\n",
            "\n",
            "  train_auc :  0.86449196625\n",
            "  val_auc :  0.86090112\n",
            "1250/1250 [==============================] - 5s 4ms/step - loss: 0.4733 - accuracy: 0.7714 - val_loss: 0.4934 - val_accuracy: 0.7621\n",
            "Epoch 21/100\n",
            "1250/1250 [==============================] - 2s 1ms/step\n",
            "313/313 [==============================] - 0s 1ms/step\n",
            "\n",
            "  train_auc :  0.86596281125\n",
            "  val_auc :  0.8634609599999999\n",
            "1250/1250 [==============================] - 5s 4ms/step - loss: 0.4719 - accuracy: 0.7727 - val_loss: 0.4755 - val_accuracy: 0.7678\n",
            "Epoch 22/100\n",
            "1250/1250 [==============================] - 2s 1ms/step\n",
            "313/313 [==============================] - 0s 1ms/step\n",
            "\n",
            "  train_auc :  0.86785711125\n",
            "  val_auc :  0.86413574\n",
            "1250/1250 [==============================] - 5s 4ms/step - loss: 0.4675 - accuracy: 0.7742 - val_loss: 0.4628 - val_accuracy: 0.7798\n",
            "Epoch 23/100\n",
            "1250/1250 [==============================] - 2s 1ms/step\n",
            "313/313 [==============================] - 0s 1ms/step\n",
            "\n",
            "  train_auc :  0.8685168262499999\n",
            "  val_auc :  0.8657671200000001\n",
            "1250/1250 [==============================] - 5s 4ms/step - loss: 0.4662 - accuracy: 0.7738 - val_loss: 0.4604 - val_accuracy: 0.7789\n",
            "Epoch 24/100\n",
            "1250/1250 [==============================] - 2s 1ms/step\n",
            "313/313 [==============================] - 0s 1ms/step\n",
            "\n",
            "  train_auc :  0.8575352775\n",
            "  val_auc :  0.8510850799999999\n",
            "1250/1250 [==============================] - 5s 4ms/step - loss: 0.4659 - accuracy: 0.7746 - val_loss: 0.4884 - val_accuracy: 0.7632\n",
            "Epoch 25/100\n",
            "1250/1250 [==============================] - 1s 1ms/step\n",
            "313/313 [==============================] - 0s 1ms/step\n",
            "\n",
            "  train_auc :  0.8696160975\n",
            "  val_auc :  0.8659598399999999\n",
            "1250/1250 [==============================] - 5s 4ms/step - loss: 0.4640 - accuracy: 0.7775 - val_loss: 0.4567 - val_accuracy: 0.7781\n",
            "Epoch 26/100\n",
            "1250/1250 [==============================] - 1s 1ms/step\n",
            "313/313 [==============================] - 0s 1ms/step\n",
            "\n",
            "  train_auc :  0.8682416975\n",
            "  val_auc :  0.8648152\n",
            "1250/1250 [==============================] - 5s 4ms/step - loss: 0.4707 - accuracy: 0.7709 - val_loss: 0.4610 - val_accuracy: 0.7781\n",
            "Epoch 27/100\n",
            "1250/1250 [==============================] - 2s 1ms/step\n",
            "313/313 [==============================] - 0s 1ms/step\n",
            "\n",
            "  train_auc :  0.87038655875\n",
            "  val_auc :  0.86527956\n",
            "1250/1250 [==============================] - 5s 4ms/step - loss: 0.4656 - accuracy: 0.7756 - val_loss: 0.4576 - val_accuracy: 0.7802\n",
            "Epoch 28/100\n",
            "1250/1250 [==============================] - 2s 1ms/step\n",
            "313/313 [==============================] - 0s 1ms/step\n",
            "\n",
            "  train_auc :  0.86914397\n",
            "  val_auc :  0.8646912000000001\n",
            "1250/1250 [==============================] - 5s 4ms/step - loss: 0.4630 - accuracy: 0.7773 - val_loss: 0.4694 - val_accuracy: 0.7744\n",
            "Epoch 29/100\n",
            "1250/1250 [==============================] - 2s 1ms/step\n",
            "313/313 [==============================] - 0s 1ms/step\n",
            "\n",
            "  train_auc :  0.8715574724999999\n",
            "  val_auc :  0.86781756\n",
            "1250/1250 [==============================] - 5s 4ms/step - loss: 0.4636 - accuracy: 0.7756 - val_loss: 0.4541 - val_accuracy: 0.7808\n",
            "Epoch 30/100\n",
            "1250/1250 [==============================] - 2s 1ms/step\n",
            "313/313 [==============================] - 0s 1ms/step\n",
            "\n",
            "  train_auc :  0.8708302225\n",
            "  val_auc :  0.8665284600000001\n",
            "1250/1250 [==============================] - 5s 4ms/step - loss: 0.4618 - accuracy: 0.7777 - val_loss: 0.4572 - val_accuracy: 0.7844\n",
            "Epoch 31/100\n",
            "1250/1250 [==============================] - 1s 1ms/step\n",
            "313/313 [==============================] - 0s 1ms/step\n",
            "\n",
            "  train_auc :  0.870877115\n",
            "  val_auc :  0.8669970799999999\n",
            "1250/1250 [==============================] - 5s 4ms/step - loss: 0.4629 - accuracy: 0.7785 - val_loss: 0.4574 - val_accuracy: 0.7791\n",
            "Epoch 32/100\n",
            "1250/1250 [==============================] - 2s 1ms/step\n",
            "313/313 [==============================] - 0s 1ms/step\n",
            "\n",
            "  train_auc :  0.87230659\n",
            "  val_auc :  0.8678026000000001\n",
            "1250/1250 [==============================] - 5s 4ms/step - loss: 0.4623 - accuracy: 0.7780 - val_loss: 0.4540 - val_accuracy: 0.7829\n",
            "Epoch 33/100\n",
            "1250/1250 [==============================] - 1s 1ms/step\n",
            "313/313 [==============================] - 0s 1ms/step\n",
            "\n",
            "  train_auc :  0.872357035\n",
            "  val_auc :  0.8681269400000001\n",
            "1250/1250 [==============================] - 5s 4ms/step - loss: 0.4601 - accuracy: 0.7787 - val_loss: 0.4540 - val_accuracy: 0.7792\n",
            "Epoch 34/100\n",
            "1250/1250 [==============================] - 2s 1ms/step\n",
            "313/313 [==============================] - 0s 1ms/step\n",
            "\n",
            "  train_auc :  0.85422443875\n",
            "  val_auc :  0.8467328000000001\n",
            "1250/1250 [==============================] - 5s 4ms/step - loss: 0.4623 - accuracy: 0.7769 - val_loss: 0.5446 - val_accuracy: 0.7285\n",
            "Epoch 35/100\n",
            "1250/1250 [==============================] - 2s 1ms/step\n",
            "313/313 [==============================] - 0s 1ms/step\n",
            "\n",
            "  train_auc :  0.873062495\n",
            "  val_auc :  0.86798796\n",
            "1250/1250 [==============================] - 5s 4ms/step - loss: 0.4624 - accuracy: 0.7745 - val_loss: 0.4542 - val_accuracy: 0.7815\n",
            "Epoch 36/100\n",
            "1250/1250 [==============================] - 2s 1ms/step\n",
            "313/313 [==============================] - 0s 1ms/step\n",
            "\n",
            "  train_auc :  0.87184396\n",
            "  val_auc :  0.86584436\n",
            "1250/1250 [==============================] - 5s 4ms/step - loss: 0.4597 - accuracy: 0.7794 - val_loss: 0.4565 - val_accuracy: 0.7797\n",
            "Epoch 37/100\n",
            "1250/1250 [==============================] - 2s 1ms/step\n",
            "313/313 [==============================] - 0s 1ms/step\n",
            "\n",
            "  train_auc :  0.871674155\n",
            "  val_auc :  0.86549946\n",
            "1250/1250 [==============================] - 5s 4ms/step - loss: 0.4598 - accuracy: 0.7800 - val_loss: 0.4646 - val_accuracy: 0.7752\n",
            "Epoch 38/100\n",
            "1250/1250 [==============================] - 2s 1ms/step\n",
            "313/313 [==============================] - 0s 1ms/step\n",
            "\n",
            "  train_auc :  0.860326135\n",
            "  val_auc :  0.8520525400000001\n",
            "1250/1250 [==============================] - 5s 4ms/step - loss: 0.4566 - accuracy: 0.7822 - val_loss: 0.5042 - val_accuracy: 0.7476\n",
            "Epoch 39/100\n",
            "1250/1250 [==============================] - 2s 1ms/step\n",
            "313/313 [==============================] - 0s 1ms/step\n",
            "\n",
            "  train_auc :  0.8726445837499999\n",
            "  val_auc :  0.86609744\n",
            "1250/1250 [==============================] - 5s 4ms/step - loss: 0.4593 - accuracy: 0.7789 - val_loss: 0.4566 - val_accuracy: 0.7806\n",
            "Epoch 40/100\n",
            "1250/1250 [==============================] - 2s 1ms/step\n",
            "313/313 [==============================] - 0s 1ms/step\n",
            "\n",
            "  train_auc :  0.8744996125\n",
            "  val_auc :  0.8682509999999999\n",
            "1250/1250 [==============================] - 5s 4ms/step - loss: 0.4583 - accuracy: 0.7800 - val_loss: 0.4520 - val_accuracy: 0.7823\n",
            "Epoch 41/100\n",
            "1250/1250 [==============================] - 2s 1ms/step\n",
            "313/313 [==============================] - 0s 1ms/step\n",
            "\n",
            "  train_auc :  0.8731404025\n",
            "  val_auc :  0.86836496\n",
            "1250/1250 [==============================] - 5s 4ms/step - loss: 0.4576 - accuracy: 0.7806 - val_loss: 0.4521 - val_accuracy: 0.7833\n",
            "Epoch 42/100\n",
            "1250/1250 [==============================] - 2s 1ms/step\n",
            "313/313 [==============================] - 0s 1ms/step\n",
            "\n",
            "  train_auc :  0.87223721625\n",
            "  val_auc :  0.8665809\n",
            "1250/1250 [==============================] - 5s 4ms/step - loss: 0.4571 - accuracy: 0.7813 - val_loss: 0.4558 - val_accuracy: 0.7781\n",
            "Epoch 43/100\n",
            "1250/1250 [==============================] - 2s 1ms/step\n",
            "313/313 [==============================] - 0s 1ms/step\n",
            "\n",
            "  train_auc :  0.8757519275\n",
            "  val_auc :  0.8697131\n",
            "1250/1250 [==============================] - 5s 4ms/step - loss: 0.4567 - accuracy: 0.7800 - val_loss: 0.4523 - val_accuracy: 0.7824\n",
            "Epoch 44/100\n",
            "1250/1250 [==============================] - 2s 1ms/step\n",
            "313/313 [==============================] - 0s 1ms/step\n",
            "\n",
            "  train_auc :  0.85540490125\n",
            "  val_auc :  0.84641488\n",
            "1250/1250 [==============================] - 5s 4ms/step - loss: 0.4592 - accuracy: 0.7783 - val_loss: 0.5626 - val_accuracy: 0.7112\n",
            "Epoch 45/100\n",
            "1250/1250 [==============================] - 1s 1ms/step\n",
            "313/313 [==============================] - 0s 1ms/step\n",
            "\n",
            "  train_auc :  0.8733456937499999\n",
            "  val_auc :  0.86622718\n",
            "1250/1250 [==============================] - 5s 4ms/step - loss: 0.4538 - accuracy: 0.7825 - val_loss: 0.4662 - val_accuracy: 0.7752\n",
            "Epoch 46/100\n",
            "1250/1250 [==============================] - 2s 1ms/step\n",
            "313/313 [==============================] - 0s 1ms/step\n",
            "\n",
            "  train_auc :  0.87167973375\n",
            "  val_auc :  0.8637847000000001\n",
            "1250/1250 [==============================] - 5s 4ms/step - loss: 0.4570 - accuracy: 0.7800 - val_loss: 0.4713 - val_accuracy: 0.7699\n",
            "Epoch 47/100\n",
            "1250/1250 [==============================] - 2s 1ms/step\n",
            "313/313 [==============================] - 0s 1ms/step\n",
            "\n",
            "  train_auc :  0.87048672375\n",
            "  val_auc :  0.86251484\n",
            "1250/1250 [==============================] - 5s 4ms/step - loss: 0.4543 - accuracy: 0.7813 - val_loss: 0.5462 - val_accuracy: 0.7210\n",
            "Epoch 48/100\n",
            "1250/1250 [==============================] - 2s 1ms/step\n",
            "313/313 [==============================] - 0s 1ms/step\n",
            "\n",
            "  train_auc :  0.87303663\n",
            "  val_auc :  0.86778954\n",
            "1250/1250 [==============================] - 5s 4ms/step - loss: 0.4548 - accuracy: 0.7810 - val_loss: 0.4710 - val_accuracy: 0.7642\n",
            "Epoch 49/100\n",
            "1250/1250 [==============================] - 2s 1ms/step\n",
            "313/313 [==============================] - 0s 1ms/step\n",
            "\n",
            "  train_auc :  0.8710513974999999\n",
            "  val_auc :  0.86346072\n",
            "1250/1250 [==============================] - 5s 4ms/step - loss: 0.4536 - accuracy: 0.7828 - val_loss: 0.4620 - val_accuracy: 0.7778\n",
            "Epoch 50/100\n",
            "1250/1250 [==============================] - 2s 1ms/step\n",
            "313/313 [==============================] - 0s 1ms/step\n",
            "\n",
            "  train_auc :  0.87521021875\n",
            "  val_auc :  0.86738516\n",
            "1250/1250 [==============================] - 5s 4ms/step - loss: 0.4527 - accuracy: 0.7826 - val_loss: 0.4657 - val_accuracy: 0.7692\n",
            "Epoch 51/100\n",
            "1250/1250 [==============================] - 2s 1ms/step\n",
            "313/313 [==============================] - 0s 1ms/step\n",
            "\n",
            "  train_auc :  0.8740332425000001\n",
            "  val_auc :  0.86887048\n",
            "1250/1250 [==============================] - 5s 4ms/step - loss: 0.4533 - accuracy: 0.7822 - val_loss: 0.4515 - val_accuracy: 0.7818\n",
            "Epoch 52/100\n",
            "1250/1250 [==============================] - 2s 1ms/step\n",
            "313/313 [==============================] - 0s 1ms/step\n",
            "\n",
            "  train_auc :  0.87490412125\n",
            "  val_auc :  0.8672810599999998\n",
            "1250/1250 [==============================] - 5s 4ms/step - loss: 0.4506 - accuracy: 0.7836 - val_loss: 0.4589 - val_accuracy: 0.7765\n",
            "Epoch 53/100\n",
            "1250/1250 [==============================] - 2s 1ms/step\n",
            "313/313 [==============================] - 0s 1ms/step\n",
            "\n",
            "  train_auc :  0.87211571375\n",
            "  val_auc :  0.8639064999999999\n",
            "1250/1250 [==============================] - 5s 4ms/step - loss: 0.4518 - accuracy: 0.7837 - val_loss: 0.4807 - val_accuracy: 0.7701\n",
            "Epoch 54/100\n",
            "1250/1250 [==============================] - 2s 1ms/step\n",
            "313/313 [==============================] - 0s 1ms/step\n",
            "\n",
            "  train_auc :  0.87552750125\n",
            "  val_auc :  0.8688900399999999\n",
            "1250/1250 [==============================] - 5s 4ms/step - loss: 0.4513 - accuracy: 0.7839 - val_loss: 0.4571 - val_accuracy: 0.7778\n",
            "Epoch 55/100\n",
            "1250/1250 [==============================] - 2s 1ms/step\n",
            "313/313 [==============================] - 0s 1ms/step\n",
            "\n",
            "  train_auc :  0.8775539450000001\n",
            "  val_auc :  0.8707482599999999\n",
            "1250/1250 [==============================] - 5s 4ms/step - loss: 0.4498 - accuracy: 0.7846 - val_loss: 0.4494 - val_accuracy: 0.7815\n",
            "Epoch 56/100\n",
            "1250/1250 [==============================] - 2s 1ms/step\n",
            "313/313 [==============================] - 0s 1ms/step\n",
            "\n",
            "  train_auc :  0.87641718375\n",
            "  val_auc :  0.8693030400000001\n",
            "1250/1250 [==============================] - 5s 4ms/step - loss: 0.4510 - accuracy: 0.7835 - val_loss: 0.4537 - val_accuracy: 0.7788\n",
            "Epoch 57/100\n",
            "1250/1250 [==============================] - 2s 1ms/step\n",
            "313/313 [==============================] - 0s 1ms/step\n",
            "\n",
            "  train_auc :  0.8748840425\n",
            "  val_auc :  0.8676367600000001\n",
            "1250/1250 [==============================] - 5s 4ms/step - loss: 0.4497 - accuracy: 0.7849 - val_loss: 0.4618 - val_accuracy: 0.7802\n",
            "Epoch 58/100\n",
            "1250/1250 [==============================] - 2s 1ms/step\n",
            "313/313 [==============================] - 0s 1ms/step\n",
            "\n",
            "  train_auc :  0.8756102025000001\n",
            "  val_auc :  0.86559728\n",
            "1250/1250 [==============================] - 5s 4ms/step - loss: 0.4504 - accuracy: 0.7829 - val_loss: 0.4649 - val_accuracy: 0.7777\n",
            "Epoch 59/100\n",
            "1250/1250 [==============================] - 2s 1ms/step\n",
            "313/313 [==============================] - 0s 1ms/step\n",
            "\n",
            "  train_auc :  0.8780431787499999\n",
            "  val_auc :  0.8710011599999999\n",
            "1250/1250 [==============================] - 5s 4ms/step - loss: 0.4487 - accuracy: 0.7856 - val_loss: 0.4487 - val_accuracy: 0.7820\n",
            "Epoch 60/100\n",
            "1250/1250 [==============================] - 2s 1ms/step\n",
            "313/313 [==============================] - 0s 1ms/step\n",
            "\n",
            "  train_auc :  0.87346974375\n",
            "  val_auc :  0.8687727000000001\n",
            "1250/1250 [==============================] - 5s 4ms/step - loss: 0.4501 - accuracy: 0.7839 - val_loss: 0.4585 - val_accuracy: 0.7799\n",
            "Epoch 61/100\n",
            "1250/1250 [==============================] - 2s 1ms/step\n",
            "313/313 [==============================] - 0s 1ms/step\n",
            "\n",
            "  train_auc :  0.8777539312500001\n",
            "  val_auc :  0.86820572\n",
            "1250/1250 [==============================] - 5s 4ms/step - loss: 0.4501 - accuracy: 0.7845 - val_loss: 0.4714 - val_accuracy: 0.7690\n",
            "Epoch 62/100\n",
            "1250/1250 [==============================] - 2s 1ms/step\n",
            "313/313 [==============================] - 0s 1ms/step\n",
            "\n",
            "  train_auc :  0.87849315375\n",
            "  val_auc :  0.8710717200000001\n",
            "1250/1250 [==============================] - 5s 4ms/step - loss: 0.4511 - accuracy: 0.7827 - val_loss: 0.4493 - val_accuracy: 0.7806\n",
            "Epoch 63/100\n",
            "1250/1250 [==============================] - 2s 1ms/step\n",
            "313/313 [==============================] - 0s 1ms/step\n",
            "\n",
            "  train_auc :  0.8774544325000001\n",
            "  val_auc :  0.86962362\n",
            "1250/1250 [==============================] - 5s 4ms/step - loss: 0.4494 - accuracy: 0.7856 - val_loss: 0.4519 - val_accuracy: 0.7813\n",
            "Epoch 64/100\n",
            "1250/1250 [==============================] - 2s 1ms/step\n",
            "313/313 [==============================] - 0s 1ms/step\n",
            "\n",
            "  train_auc :  0.87384908\n",
            "  val_auc :  0.8665870000000001\n",
            "1250/1250 [==============================] - 5s 4ms/step - loss: 0.4493 - accuracy: 0.7862 - val_loss: 0.4559 - val_accuracy: 0.7770\n",
            "Epoch 65/100\n",
            "1250/1250 [==============================] - 2s 1ms/step\n",
            "313/313 [==============================] - 0s 1ms/step\n",
            "\n",
            "  train_auc :  0.8786038349999999\n",
            "  val_auc :  0.86884776\n",
            "1250/1250 [==============================] - 5s 4ms/step - loss: 0.4474 - accuracy: 0.7851 - val_loss: 0.4524 - val_accuracy: 0.7829\n",
            "Epoch 66/100\n",
            "1250/1250 [==============================] - 2s 1ms/step\n",
            "313/313 [==============================] - 0s 1ms/step\n",
            "\n",
            "  train_auc :  0.875188085\n",
            "  val_auc :  0.8656641599999999\n",
            "1250/1250 [==============================] - 5s 4ms/step - loss: 0.4474 - accuracy: 0.7860 - val_loss: 0.4651 - val_accuracy: 0.7743\n",
            "Epoch 67/100\n",
            "1250/1250 [==============================] - 2s 1ms/step\n",
            "313/313 [==============================] - 0s 1ms/step\n",
            "\n",
            "  train_auc :  0.87665872625\n",
            "  val_auc :  0.86759928\n",
            "1250/1250 [==============================] - 5s 4ms/step - loss: 0.4467 - accuracy: 0.7872 - val_loss: 0.4573 - val_accuracy: 0.7737\n",
            "Epoch 68/100\n",
            "1250/1250 [==============================] - 2s 1ms/step\n",
            "313/313 [==============================] - 0s 1ms/step\n",
            "\n",
            "  train_auc :  0.87845428375\n",
            "  val_auc :  0.8705299199999998\n",
            "1250/1250 [==============================] - 5s 4ms/step - loss: 0.4489 - accuracy: 0.7852 - val_loss: 0.4494 - val_accuracy: 0.7801\n",
            "Epoch 69/100\n",
            "1250/1250 [==============================] - 2s 1ms/step\n",
            "313/313 [==============================] - 0s 1ms/step\n",
            "\n",
            "  train_auc :  0.87854120625\n",
            "  val_auc :  0.8706075600000001\n",
            "1250/1250 [==============================] - 5s 4ms/step - loss: 0.4486 - accuracy: 0.7826 - val_loss: 0.4733 - val_accuracy: 0.7673\n",
            "Epoch 70/100\n",
            "1250/1250 [==============================] - 2s 1ms/step\n",
            "313/313 [==============================] - 0s 1ms/step\n",
            "\n",
            "  train_auc :  0.8777566887499999\n",
            "  val_auc :  0.86728234\n",
            "1250/1250 [==============================] - 5s 4ms/step - loss: 0.4449 - accuracy: 0.7868 - val_loss: 0.4659 - val_accuracy: 0.7755\n",
            "Epoch 71/100\n",
            "1250/1250 [==============================] - 2s 1ms/step\n",
            "313/313 [==============================] - 0s 1ms/step\n",
            "\n",
            "  train_auc :  0.87814768125\n",
            "  val_auc :  0.8698503799999999\n",
            "1250/1250 [==============================] - 5s 4ms/step - loss: 0.4466 - accuracy: 0.7843 - val_loss: 0.4526 - val_accuracy: 0.7791\n",
            "Epoch 72/100\n",
            "1250/1250 [==============================] - 2s 1ms/step\n",
            "313/313 [==============================] - 0s 1ms/step\n",
            "\n",
            "  train_auc :  0.8776503949999999\n",
            "  val_auc :  0.8681095\n",
            "1250/1250 [==============================] - 5s 4ms/step - loss: 0.4450 - accuracy: 0.7881 - val_loss: 0.4541 - val_accuracy: 0.7819\n",
            "Epoch 73/100\n",
            "1250/1250 [==============================] - 2s 1ms/step\n",
            "313/313 [==============================] - 0s 1ms/step\n",
            "\n",
            "  train_auc :  0.8795791662500001\n",
            "  val_auc :  0.87053088\n",
            "1250/1250 [==============================] - 5s 4ms/step - loss: 0.4460 - accuracy: 0.7871 - val_loss: 0.4485 - val_accuracy: 0.7839\n",
            "Epoch 74/100\n",
            "1250/1250 [==============================] - 2s 1ms/step\n",
            "313/313 [==============================] - 0s 1ms/step\n",
            "\n",
            "  train_auc :  0.87887812875\n",
            "  val_auc :  0.8691315000000001\n",
            "1250/1250 [==============================] - 5s 4ms/step - loss: 0.4462 - accuracy: 0.7863 - val_loss: 0.4565 - val_accuracy: 0.7820\n",
            "Epoch 75/100\n",
            "1250/1250 [==============================] - 2s 1ms/step\n",
            "313/313 [==============================] - 0s 1ms/step\n",
            "\n",
            "  train_auc :  0.8789406512499999\n",
            "  val_auc :  0.8681471199999999\n",
            "1250/1250 [==============================] - 5s 4ms/step - loss: 0.4460 - accuracy: 0.7879 - val_loss: 0.4573 - val_accuracy: 0.7800\n",
            "Epoch 76/100\n",
            "1250/1250 [==============================] - 2s 1ms/step\n",
            "313/313 [==============================] - 0s 1ms/step\n",
            "\n",
            "  train_auc :  0.8786903375\n",
            "  val_auc :  0.8710950799999999\n",
            "1250/1250 [==============================] - 5s 4ms/step - loss: 0.4439 - accuracy: 0.7876 - val_loss: 0.4533 - val_accuracy: 0.7805\n",
            "Epoch 77/100\n",
            "1250/1250 [==============================] - 2s 1ms/step\n",
            "313/313 [==============================] - 0s 1ms/step\n",
            "\n",
            "  train_auc :  0.8800226899999999\n",
            "  val_auc :  0.8702550000000001\n",
            "1250/1250 [==============================] - 5s 4ms/step - loss: 0.4454 - accuracy: 0.7879 - val_loss: 0.4510 - val_accuracy: 0.7808\n",
            "Epoch 78/100\n",
            "1250/1250 [==============================] - 2s 1ms/step\n",
            "313/313 [==============================] - 0s 1ms/step\n",
            "\n",
            "  train_auc :  0.88141473875\n",
            "  val_auc :  0.87144088\n",
            "1250/1250 [==============================] - 5s 4ms/step - loss: 0.4459 - accuracy: 0.7879 - val_loss: 0.4487 - val_accuracy: 0.7805\n",
            "Epoch 79/100\n",
            "1250/1250 [==============================] - 2s 1ms/step\n",
            "313/313 [==============================] - 0s 1ms/step\n",
            "\n",
            "  train_auc :  0.87838297625\n",
            "  val_auc :  0.8681363200000001\n",
            "1250/1250 [==============================] - 5s 4ms/step - loss: 0.4439 - accuracy: 0.7891 - val_loss: 0.4531 - val_accuracy: 0.7830\n",
            "Epoch 80/100\n",
            "1250/1250 [==============================] - 2s 1ms/step\n",
            "313/313 [==============================] - 0s 1ms/step\n",
            "\n",
            "  train_auc :  0.8801132549999999\n",
            "  val_auc :  0.8695404600000001\n",
            "1250/1250 [==============================] - 5s 4ms/step - loss: 0.4458 - accuracy: 0.7862 - val_loss: 0.4498 - val_accuracy: 0.7833\n",
            "Epoch 81/100\n",
            "1250/1250 [==============================] - 1s 1ms/step\n",
            "313/313 [==============================] - 0s 1ms/step\n",
            "\n",
            "  train_auc :  0.875986675\n",
            "  val_auc :  0.86836192\n",
            "1250/1250 [==============================] - 5s 4ms/step - loss: 0.4449 - accuracy: 0.7863 - val_loss: 0.4694 - val_accuracy: 0.7708\n",
            "Epoch 82/100\n",
            "1250/1250 [==============================] - 2s 1ms/step\n",
            "313/313 [==============================] - 0s 1ms/step\n",
            "\n",
            "  train_auc :  0.87873874875\n",
            "  val_auc :  0.86858742\n",
            "1250/1250 [==============================] - 5s 4ms/step - loss: 0.4435 - accuracy: 0.7870 - val_loss: 0.4523 - val_accuracy: 0.7830\n",
            "Epoch 83/100\n",
            "1250/1250 [==============================] - 2s 1ms/step\n",
            "313/313 [==============================] - 0s 1ms/step\n",
            "\n",
            "  train_auc :  0.87981381125\n",
            "  val_auc :  0.8665536200000001\n",
            "1250/1250 [==============================] - 5s 4ms/step - loss: 0.4424 - accuracy: 0.7891 - val_loss: 0.4618 - val_accuracy: 0.7804\n",
            "Epoch 84/100\n",
            "1250/1250 [==============================] - 2s 1ms/step\n",
            "313/313 [==============================] - 0s 1ms/step\n",
            "\n",
            "  train_auc :  0.8799903687499999\n",
            "  val_auc :  0.86816798\n",
            "1250/1250 [==============================] - 5s 4ms/step - loss: 0.4439 - accuracy: 0.7872 - val_loss: 0.4705 - val_accuracy: 0.7723\n",
            "Epoch 85/100\n",
            "1250/1250 [==============================] - 2s 1ms/step\n",
            "313/313 [==============================] - 0s 1ms/step\n",
            "\n",
            "  train_auc :  0.8808528062500001\n",
            "  val_auc :  0.8704231600000001\n",
            "1250/1250 [==============================] - 5s 4ms/step - loss: 0.4429 - accuracy: 0.7899 - val_loss: 0.4573 - val_accuracy: 0.7767\n",
            "Epoch 86/100\n",
            "1250/1250 [==============================] - 2s 1ms/step\n",
            "313/313 [==============================] - 0s 1ms/step\n",
            "\n",
            "  train_auc :  0.879965435\n",
            "  val_auc :  0.8703370400000001\n",
            "1250/1250 [==============================] - 5s 4ms/step - loss: 0.4421 - accuracy: 0.7897 - val_loss: 0.4569 - val_accuracy: 0.7790\n",
            "Epoch 87/100\n",
            "1250/1250 [==============================] - 2s 1ms/step\n",
            "313/313 [==============================] - 0s 1ms/step\n",
            "\n",
            "  train_auc :  0.87828918625\n",
            "  val_auc :  0.8666754399999999\n",
            "1250/1250 [==============================] - 5s 4ms/step - loss: 0.4424 - accuracy: 0.7878 - val_loss: 0.4609 - val_accuracy: 0.7789\n",
            "Epoch 88/100\n",
            "1250/1250 [==============================] - 2s 1ms/step\n",
            "313/313 [==============================] - 0s 1ms/step\n",
            "\n",
            "  train_auc :  0.8763055299999999\n",
            "  val_auc :  0.8651662\n",
            "1250/1250 [==============================] - 5s 4ms/step - loss: 0.4408 - accuracy: 0.7904 - val_loss: 0.4662 - val_accuracy: 0.7721\n",
            "Epoch 89/100\n",
            "1250/1250 [==============================] - 2s 1ms/step\n",
            "313/313 [==============================] - 0s 1ms/step\n",
            "\n",
            "  train_auc :  0.8821876550000001\n",
            "  val_auc :  0.87166444\n",
            "1250/1250 [==============================] - 5s 4ms/step - loss: 0.4413 - accuracy: 0.7889 - val_loss: 0.4467 - val_accuracy: 0.7866\n",
            "Epoch 90/100\n",
            "1250/1250 [==============================] - 2s 1ms/step\n",
            "313/313 [==============================] - 0s 1ms/step\n",
            "\n",
            "  train_auc :  0.88088112\n",
            "  val_auc :  0.86754714\n",
            "1250/1250 [==============================] - 5s 4ms/step - loss: 0.4411 - accuracy: 0.7897 - val_loss: 0.4640 - val_accuracy: 0.7775\n",
            "Epoch 91/100\n",
            "1250/1250 [==============================] - 2s 1ms/step\n",
            "313/313 [==============================] - 0s 1ms/step\n",
            "\n",
            "  train_auc :  0.8812809962500001\n",
            "  val_auc :  0.8712007400000001\n",
            "1250/1250 [==============================] - 5s 4ms/step - loss: 0.4428 - accuracy: 0.7886 - val_loss: 0.4532 - val_accuracy: 0.7835\n",
            "Epoch 92/100\n",
            "1250/1250 [==============================] - 2s 1ms/step\n",
            "313/313 [==============================] - 0s 1ms/step\n",
            "\n",
            "  train_auc :  0.8801371137499999\n",
            "  val_auc :  0.86617572\n",
            "1250/1250 [==============================] - 5s 4ms/step - loss: 0.4436 - accuracy: 0.7878 - val_loss: 0.4622 - val_accuracy: 0.7769\n",
            "Epoch 93/100\n",
            "1250/1250 [==============================] - 2s 1ms/step\n",
            "313/313 [==============================] - 0s 1ms/step\n",
            "\n",
            "  train_auc :  0.88206625875\n",
            "  val_auc :  0.87113696\n",
            "1250/1250 [==============================] - 5s 4ms/step - loss: 0.4404 - accuracy: 0.7908 - val_loss: 0.4551 - val_accuracy: 0.7754\n",
            "Epoch 94/100\n",
            "1250/1250 [==============================] - 2s 1ms/step\n",
            "313/313 [==============================] - 0s 1ms/step\n",
            "\n",
            "  train_auc :  0.8819678762500001\n",
            "  val_auc :  0.86934756\n",
            "1250/1250 [==============================] - 5s 4ms/step - loss: 0.4398 - accuracy: 0.7901 - val_loss: 0.4600 - val_accuracy: 0.7811\n",
            "Epoch 95/100\n",
            "1250/1250 [==============================] - 2s 1ms/step\n",
            "313/313 [==============================] - 0s 1ms/step\n",
            "\n",
            "  train_auc :  0.8807371800000001\n",
            "  val_auc :  0.86923966\n",
            "1250/1250 [==============================] - 5s 4ms/step - loss: 0.4403 - accuracy: 0.7892 - val_loss: 0.4511 - val_accuracy: 0.7818\n",
            "Epoch 96/100\n",
            "1250/1250 [==============================] - 2s 1ms/step\n",
            "313/313 [==============================] - 0s 1ms/step\n",
            "\n",
            "  train_auc :  0.88099883875\n",
            "  val_auc :  0.86927858\n",
            "1250/1250 [==============================] - 5s 4ms/step - loss: 0.4410 - accuracy: 0.7883 - val_loss: 0.4535 - val_accuracy: 0.7819\n",
            "Epoch 97/100\n",
            "1250/1250 [==============================] - 2s 1ms/step\n",
            "313/313 [==============================] - 0s 1ms/step\n",
            "\n",
            "  train_auc :  0.877252725\n",
            "  val_auc :  0.8675121800000001\n",
            "1250/1250 [==============================] - 5s 4ms/step - loss: 0.4402 - accuracy: 0.7914 - val_loss: 0.4830 - val_accuracy: 0.7573\n",
            "Epoch 98/100\n",
            "1250/1250 [==============================] - 2s 1ms/step\n",
            "313/313 [==============================] - 0s 1ms/step\n",
            "\n",
            "  train_auc :  0.87287286875\n",
            "  val_auc :  0.8602948\n",
            "1250/1250 [==============================] - 5s 4ms/step - loss: 0.4396 - accuracy: 0.7916 - val_loss: 0.4736 - val_accuracy: 0.7717\n",
            "Epoch 99/100\n",
            "1250/1250 [==============================] - 2s 1ms/step\n",
            "313/313 [==============================] - 0s 1ms/step\n",
            "\n",
            "  train_auc :  0.8844490775\n",
            "  val_auc :  0.8708328000000001\n",
            "1250/1250 [==============================] - 5s 4ms/step - loss: 0.4399 - accuracy: 0.7902 - val_loss: 0.4479 - val_accuracy: 0.7854\n",
            "Epoch 100/100\n",
            "1250/1250 [==============================] - 2s 1ms/step\n",
            "313/313 [==============================] - 0s 1ms/step\n",
            "\n",
            "  train_auc :  0.88049203875\n",
            "  val_auc :  0.8675849400000001\n",
            "1250/1250 [==============================] - 5s 4ms/step - loss: 0.4394 - accuracy: 0.7904 - val_loss: 0.4624 - val_accuracy: 0.7765\n"
          ]
        },
        {
          "output_type": "execute_result",
          "data": {
            "text/plain": [
              "<keras.callbacks.History at 0x7efe707c3c10>"
            ]
          },
          "metadata": {},
          "execution_count": 42
        }
      ],
      "source": [
        "!rm -rf ./logs_model1/ \n",
        "tf.keras.backend.clear_session()\n",
        "model1.fit(X_train_pooled_output,y_train,validation_data=(X_test_pooled_output,y_test),epochs=100,callbacks=[history_own])"
      ]
    },
    {
      "cell_type": "code",
      "execution_count": 43,
      "metadata": {
        "colab": {
          "base_uri": "https://localhost:8080/",
          "height": 642
        },
        "id": "UYi3_ESIn4jY",
        "outputId": "abe2b75b-6fd7-45f9-ee0c-bee18ffd0f54"
      },
      "outputs": [
        {
          "output_type": "display_data",
          "data": {
            "text/plain": [
              "<Figure size 1152x720 with 1 Axes>"
            ],
            "image/png": "[encoded data removed]"
          },
          "metadata": {
            "needs_background": "light"
          }
        }
      ],
      "source": [
        "plt.rcParams.update({'font.size': 20})\n",
        "plt.figure(figsize=(16,10))\n",
        "\n",
        "plt.plot(np.arange(len(auc)),auc,color=\"blue\")\n",
        "plt.plot(np.arange(len(auc)),val_auc,color='red')\n",
        "\n",
        "plt.scatter(np.arange(len(auc)),auc,color='blue')\n",
        "plt.scatter(np.arange(len(auc)),val_auc,color='red')\n",
        "\n",
        "plt.xticks(np.arange(0,len(auc)+1,5),rotation=-35)\n",
        "plt.xlabel('Epoch')\n",
        "plt.ylabel('AUC Score')\n",
        "plt.legend(['Train AUC','Test AUC'])\n",
        "plt.grid()\n",
        "plt.show()"
      ]
    },
    {
      "cell_type": "markdown",
      "metadata": {
        "id": "TV-8fn3giVpV"
      },
      "source": [
        "model2"
      ]
    }
  ],
  "metadata": {
    "accelerator": "GPU",
    "colab": {
      "machine_shape": "hm",
      "provenance": []
    },
    "gpuClass": "premium",
    "kernelspec": {
      "display_name": "Python 3",
      "name": "python3"
    },
    "language_info": {
      "name": "python"
    }
  },
  "nbformat": 4,
  "nbformat_minor": 0
}